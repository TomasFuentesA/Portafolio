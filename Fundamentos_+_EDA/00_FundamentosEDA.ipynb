{
 "cells": [
  {
   "cell_type": "code",
   "execution_count": 2,
   "metadata": {},
   "outputs": [],
   "source": [
    "import pandas as pd"
   ]
  },
  {
   "cell_type": "code",
   "execution_count": null,
   "metadata": {},
   "outputs": [],
   "source": []
  },
  {
   "cell_type": "code",
   "execution_count": 3,
   "metadata": {},
   "outputs": [
    {
     "data": {
      "text/html": [
       "<div>\n",
       "<style scoped>\n",
       "    .dataframe tbody tr th:only-of-type {\n",
       "        vertical-align: middle;\n",
       "    }\n",
       "\n",
       "    .dataframe tbody tr th {\n",
       "        vertical-align: top;\n",
       "    }\n",
       "\n",
       "    .dataframe thead th {\n",
       "        text-align: right;\n",
       "    }\n",
       "</style>\n",
       "<table border=\"1\" class=\"dataframe\">\n",
       "  <thead>\n",
       "    <tr style=\"text-align: right;\">\n",
       "      <th></th>\n",
       "      <th>show_id</th>\n",
       "      <th>title</th>\n",
       "      <th>director</th>\n",
       "      <th>cast</th>\n",
       "      <th>country</th>\n",
       "      <th>date_added</th>\n",
       "      <th>release_year</th>\n",
       "      <th>rating</th>\n",
       "      <th>duration</th>\n",
       "      <th>listed_in</th>\n",
       "      <th>description</th>\n",
       "      <th>type</th>\n",
       "    </tr>\n",
       "  </thead>\n",
       "  <tbody>\n",
       "    <tr>\n",
       "      <th>5827</th>\n",
       "      <td>70206824</td>\n",
       "      <td>Triumph of the Heart</td>\n",
       "      <td>Richard Michaels</td>\n",
       "      <td>Mario Van Peebles, Susan Ruttan, Lane R. Davis...</td>\n",
       "      <td>United States</td>\n",
       "      <td>October 1, 2011</td>\n",
       "      <td>1991</td>\n",
       "      <td>TV-PG</td>\n",
       "      <td>93 min</td>\n",
       "      <td>Dramas, Sports Movies</td>\n",
       "      <td>This drama tells the tale of Ricky Bell, a pro...</td>\n",
       "      <td>Movie</td>\n",
       "    </tr>\n",
       "    <tr>\n",
       "      <th>5828</th>\n",
       "      <td>70206825</td>\n",
       "      <td>Unspeakable Acts</td>\n",
       "      <td>Linda Otto</td>\n",
       "      <td>Jill Clayburgh, Brad Davis, Sam Behrens</td>\n",
       "      <td>United States</td>\n",
       "      <td>October 1, 2011</td>\n",
       "      <td>1990</td>\n",
       "      <td>NR</td>\n",
       "      <td>95 min</td>\n",
       "      <td>Dramas</td>\n",
       "      <td>Laurie and Joseph are doctors who interview se...</td>\n",
       "      <td>Movie</td>\n",
       "    </tr>\n",
       "    <tr>\n",
       "      <th>5829</th>\n",
       "      <td>70206826</td>\n",
       "      <td>Victim of Beauty</td>\n",
       "      <td>Roger Young</td>\n",
       "      <td>William Devane, Jeri Ryan, Michele Abrams, Nic...</td>\n",
       "      <td>United States</td>\n",
       "      <td>October 1, 2011</td>\n",
       "      <td>1991</td>\n",
       "      <td>NR</td>\n",
       "      <td>93 min</td>\n",
       "      <td>Dramas, Thrillers</td>\n",
       "      <td>A beauty pageant winner is stalked by a serial...</td>\n",
       "      <td>Movie</td>\n",
       "    </tr>\n",
       "    <tr>\n",
       "      <th>5830</th>\n",
       "      <td>60003155</td>\n",
       "      <td>Joseph: King of Dreams</td>\n",
       "      <td>Rob LaDuca, Robert C. Ramirez</td>\n",
       "      <td>Ben Affleck, Mark Hamill, Richard Herd, Mauree...</td>\n",
       "      <td>United States</td>\n",
       "      <td>September 27, 2011</td>\n",
       "      <td>2000</td>\n",
       "      <td>TV-PG</td>\n",
       "      <td>75 min</td>\n",
       "      <td>Children &amp; Family Movies, Dramas, Faith &amp; Spir...</td>\n",
       "      <td>With his gift of dream interpretation and his ...</td>\n",
       "      <td>Movie</td>\n",
       "    </tr>\n",
       "    <tr>\n",
       "      <th>5831</th>\n",
       "      <td>70154110</td>\n",
       "      <td>Even the Rain</td>\n",
       "      <td>Icíar Bollaín</td>\n",
       "      <td>Luis Tosar, Gael García Bernal, Juan Carlos Ad...</td>\n",
       "      <td>Spain, Mexico, France</td>\n",
       "      <td>May 17, 2011</td>\n",
       "      <td>2010</td>\n",
       "      <td>NR</td>\n",
       "      <td>103 min</td>\n",
       "      <td>Dramas, International Movies</td>\n",
       "      <td>While making a film about the incursion of Chr...</td>\n",
       "      <td>Movie</td>\n",
       "    </tr>\n",
       "    <tr>\n",
       "      <th>5832</th>\n",
       "      <td>70141644</td>\n",
       "      <td>Mad Ron's Prevues from Hell</td>\n",
       "      <td>Jim Monaco</td>\n",
       "      <td>Nick Pawlow, Jordu Schell, Jay Kushwara, Micha...</td>\n",
       "      <td>United States</td>\n",
       "      <td>November 1, 2010</td>\n",
       "      <td>1987</td>\n",
       "      <td>NR</td>\n",
       "      <td>84 min</td>\n",
       "      <td>Cult Movies, Horror Movies</td>\n",
       "      <td>This collection cherry-picks trailers, forgott...</td>\n",
       "      <td>Movie</td>\n",
       "    </tr>\n",
       "    <tr>\n",
       "      <th>5833</th>\n",
       "      <td>70127998</td>\n",
       "      <td>Splatter</td>\n",
       "      <td>Joe Dante</td>\n",
       "      <td>Corey Feldman, Tony Todd, Tara Leigh, Erin Way...</td>\n",
       "      <td>United States</td>\n",
       "      <td>November 18, 2009</td>\n",
       "      <td>2009</td>\n",
       "      <td>TV-14</td>\n",
       "      <td>29 min</td>\n",
       "      <td>Horror Movies</td>\n",
       "      <td>After committing suicide, a washed-up rocker r...</td>\n",
       "      <td>Movie</td>\n",
       "    </tr>\n",
       "    <tr>\n",
       "      <th>5834</th>\n",
       "      <td>70084180</td>\n",
       "      <td>Just Another Love Story</td>\n",
       "      <td>Ole Bornedal</td>\n",
       "      <td>Anders W. Berthelsen, Rebecka Hemse, Nikolaj L...</td>\n",
       "      <td>Denmark</td>\n",
       "      <td>May 5, 2009</td>\n",
       "      <td>2007</td>\n",
       "      <td>NR</td>\n",
       "      <td>104 min</td>\n",
       "      <td>Dramas, International Movies</td>\n",
       "      <td>When he causes a car accident that leaves a yo...</td>\n",
       "      <td>Movie</td>\n",
       "    </tr>\n",
       "    <tr>\n",
       "      <th>5835</th>\n",
       "      <td>70157452</td>\n",
       "      <td>Dinner for Five</td>\n",
       "      <td>NaN</td>\n",
       "      <td>NaN</td>\n",
       "      <td>United States</td>\n",
       "      <td>February 4, 2008</td>\n",
       "      <td>2007</td>\n",
       "      <td>TV-MA</td>\n",
       "      <td>1 Season</td>\n",
       "      <td>Stand-Up Comedy &amp; Talk Shows</td>\n",
       "      <td>In each episode, four celebrities join host Jo...</td>\n",
       "      <td>TV Show</td>\n",
       "    </tr>\n",
       "    <tr>\n",
       "      <th>5836</th>\n",
       "      <td>70053412</td>\n",
       "      <td>To and From New York</td>\n",
       "      <td>Sorin Dan Mihalcescu</td>\n",
       "      <td>Barbara King, Shaana Diya, John Krisiukenas, Y...</td>\n",
       "      <td>United States</td>\n",
       "      <td>January 1, 2008</td>\n",
       "      <td>2006</td>\n",
       "      <td>NR</td>\n",
       "      <td>81 min</td>\n",
       "      <td>Dramas, Independent Movies, Thrillers</td>\n",
       "      <td>While covering a story in New York City, a Sea...</td>\n",
       "      <td>Movie</td>\n",
       "    </tr>\n",
       "  </tbody>\n",
       "</table>\n",
       "</div>"
      ],
      "text/plain": [
       "       show_id                        title                       director  \\\n",
       "5827  70206824         Triumph of the Heart               Richard Michaels   \n",
       "5828  70206825             Unspeakable Acts                     Linda Otto   \n",
       "5829  70206826             Victim of Beauty                    Roger Young   \n",
       "5830  60003155       Joseph: King of Dreams  Rob LaDuca, Robert C. Ramirez   \n",
       "5831  70154110                Even the Rain                  Icíar Bollaín   \n",
       "5832  70141644  Mad Ron's Prevues from Hell                     Jim Monaco   \n",
       "5833  70127998                     Splatter                      Joe Dante   \n",
       "5834  70084180      Just Another Love Story                   Ole Bornedal   \n",
       "5835  70157452              Dinner for Five                            NaN   \n",
       "5836  70053412         To and From New York           Sorin Dan Mihalcescu   \n",
       "\n",
       "                                                   cast  \\\n",
       "5827  Mario Van Peebles, Susan Ruttan, Lane R. Davis...   \n",
       "5828            Jill Clayburgh, Brad Davis, Sam Behrens   \n",
       "5829  William Devane, Jeri Ryan, Michele Abrams, Nic...   \n",
       "5830  Ben Affleck, Mark Hamill, Richard Herd, Mauree...   \n",
       "5831  Luis Tosar, Gael García Bernal, Juan Carlos Ad...   \n",
       "5832  Nick Pawlow, Jordu Schell, Jay Kushwara, Micha...   \n",
       "5833  Corey Feldman, Tony Todd, Tara Leigh, Erin Way...   \n",
       "5834  Anders W. Berthelsen, Rebecka Hemse, Nikolaj L...   \n",
       "5835                                                NaN   \n",
       "5836  Barbara King, Shaana Diya, John Krisiukenas, Y...   \n",
       "\n",
       "                    country          date_added  release_year rating  \\\n",
       "5827          United States     October 1, 2011          1991  TV-PG   \n",
       "5828          United States     October 1, 2011          1990     NR   \n",
       "5829          United States     October 1, 2011          1991     NR   \n",
       "5830          United States  September 27, 2011          2000  TV-PG   \n",
       "5831  Spain, Mexico, France        May 17, 2011          2010     NR   \n",
       "5832          United States    November 1, 2010          1987     NR   \n",
       "5833          United States   November 18, 2009          2009  TV-14   \n",
       "5834                Denmark         May 5, 2009          2007     NR   \n",
       "5835          United States    February 4, 2008          2007  TV-MA   \n",
       "5836          United States     January 1, 2008          2006     NR   \n",
       "\n",
       "      duration                                          listed_in  \\\n",
       "5827    93 min                              Dramas, Sports Movies   \n",
       "5828    95 min                                             Dramas   \n",
       "5829    93 min                                  Dramas, Thrillers   \n",
       "5830    75 min  Children & Family Movies, Dramas, Faith & Spir...   \n",
       "5831   103 min                       Dramas, International Movies   \n",
       "5832    84 min                         Cult Movies, Horror Movies   \n",
       "5833    29 min                                      Horror Movies   \n",
       "5834   104 min                       Dramas, International Movies   \n",
       "5835  1 Season                       Stand-Up Comedy & Talk Shows   \n",
       "5836    81 min              Dramas, Independent Movies, Thrillers   \n",
       "\n",
       "                                            description     type  \n",
       "5827  This drama tells the tale of Ricky Bell, a pro...    Movie  \n",
       "5828  Laurie and Joseph are doctors who interview se...    Movie  \n",
       "5829  A beauty pageant winner is stalked by a serial...    Movie  \n",
       "5830  With his gift of dream interpretation and his ...    Movie  \n",
       "5831  While making a film about the incursion of Chr...    Movie  \n",
       "5832  This collection cherry-picks trailers, forgott...    Movie  \n",
       "5833  After committing suicide, a washed-up rocker r...    Movie  \n",
       "5834  When he causes a car accident that leaves a yo...    Movie  \n",
       "5835  In each episode, four celebrities join host Jo...  TV Show  \n",
       "5836  While covering a story in New York City, a Sea...    Movie  "
      ]
     },
     "execution_count": 3,
     "metadata": {},
     "output_type": "execute_result"
    }
   ],
   "source": [
    "Netflix_Data = pd.read_csv(r\"D:\\Portafolio\\Fundamentos_+_EDA\\Dataset\\netflix_titles_nov_2019.csv\")\n",
    "Netflix_Data.tail(10)\n"
   ]
  },
  {
   "cell_type": "code",
   "execution_count": 4,
   "metadata": {},
   "outputs": [
    {
     "name": "stdout",
     "output_type": "stream",
     "text": [
      "show_id          int64\n",
      "title           object\n",
      "director        object\n",
      "cast            object\n",
      "country         object\n",
      "date_added      object\n",
      "release_year     int64\n",
      "rating          object\n",
      "duration        object\n",
      "listed_in       object\n",
      "description     object\n",
      "type            object\n",
      "dtype: object\n"
     ]
    },
    {
     "data": {
      "text/plain": [
       "(5837, 12)"
      ]
     },
     "execution_count": 4,
     "metadata": {},
     "output_type": "execute_result"
    }
   ],
   "source": [
    "print(Netflix_Data.dtypes)\n",
    "Netflix_Data.shape"
   ]
  },
  {
   "cell_type": "code",
   "execution_count": 5,
   "metadata": {},
   "outputs": [
    {
     "data": {
      "text/plain": [
       "type\n",
       "Movie      3939\n",
       "TV Show    1898\n",
       "Name: count, dtype: int64"
      ]
     },
     "execution_count": 5,
     "metadata": {},
     "output_type": "execute_result"
    }
   ],
   "source": [
    "Netflix_Data['type'].value_counts()"
   ]
  },
  {
   "cell_type": "code",
   "execution_count": 6,
   "metadata": {},
   "outputs": [
    {
     "name": "stdout",
     "output_type": "stream",
     "text": [
      "Total de peliculas: 47268\n",
      "Total de series: 22776\n",
      "Ratio: 2.0753424657534247\n"
     ]
    }
   ],
   "source": [
    "peliculas = Netflix_Data[Netflix_Data['type'] == 'Movie'].size\n",
    "series = Netflix_Data[Netflix_Data['type'] == 'TV Show'].size\n",
    "\n",
    "print(f\"Total de peliculas: {peliculas}\\nTotal de series: {series}\\nRatio: {peliculas/series}\")\n"
   ]
  },
  {
   "cell_type": "markdown",
   "metadata": {},
   "source": [
    "# 1. Contexto y estructura general\n",
    "- ¿Qué representa este dataset? ¿Cuál es su propósito o contexto? El dataset representa el catalogo que tenia Netlfix el 2019. Su proposito es mostrar cuales son las caracteristicas de cada pelicula o serie presente en la aplicacion.\n",
    "\n",
    "- ¿Cuántos títulos hay en total? Tiene 5837 títulos.\n",
    "\n",
    "- ¿Qué tipo de variables hay? (Numéricas, categóricas, fechas, texto…) Hay de todo tipo, int y strings\n",
    "\n",
    "- ¿Qué significan cada una de las columnas? Cada columna o feature, corresponden a caracteristicas propias de cada elemento del catalogo.\n",
    "\n",
    "- ¿Qué proporción son películas vs series? 2.07 aproximadamente."
   ]
  },
  {
   "cell_type": "markdown",
   "metadata": {},
   "source": [
    "# 2. Limpieza y preparación\n",
    "\n",
    "- ¿Hay valores faltantes? ¿En qué columnas y cuántos?"
   ]
  },
  {
   "cell_type": "code",
   "execution_count": 7,
   "metadata": {},
   "outputs": [
    {
     "name": "stdout",
     "output_type": "stream",
     "text": [
      "show_id            0\n",
      "title              0\n",
      "director        1901\n",
      "cast             556\n",
      "country          427\n",
      "date_added       642\n",
      "release_year       0\n",
      "rating            10\n",
      "duration           0\n",
      "listed_in          0\n",
      "description        0\n",
      "type               0\n",
      "dtype: int64\n",
      "Total de valores nulos en el DataFrame: 3536\n"
     ]
    }
   ],
   "source": [
    "null_values_per_column = Netflix_Data.isnull().sum()\n",
    "total_null_values = Netflix_Data.isnull().sum().sum()\n",
    "\n",
    "print(null_values_per_column)\n",
    "print(f\"Total de valores nulos en el DataFrame: {total_null_values}\")"
   ]
  },
  {
   "cell_type": "markdown",
   "metadata": {},
   "source": [
    "- ¿Hay títulos duplicados?"
   ]
  },
  {
   "cell_type": "code",
   "execution_count": 8,
   "metadata": {},
   "outputs": [
    {
     "name": "stdout",
     "output_type": "stream",
     "text": [
      "En total hay: 57 titulos duplicados\n"
     ]
    }
   ],
   "source": [
    "dupli = Netflix_Data.duplicated(subset=\"title\").sum()\n",
    "print(f\"En total hay: {dupli} titulos duplicados\")\t"
   ]
  },
  {
   "cell_type": "markdown",
   "metadata": {},
   "source": [
    "- ¿Las fechas están en formato correcto?"
   ]
  },
  {
   "cell_type": "code",
   "execution_count": 9,
   "metadata": {},
   "outputs": [
    {
     "data": {
      "text/plain": [
       "0       November 30, 2019\n",
       "1       November 30, 2019\n",
       "2       November 30, 2019\n",
       "3       November 29, 2019\n",
       "4                     NaN\n",
       "              ...        \n",
       "5832     November 1, 2010\n",
       "5833    November 18, 2009\n",
       "5834          May 5, 2009\n",
       "5835     February 4, 2008\n",
       "5836      January 1, 2008\n",
       "Name: date_added, Length: 5837, dtype: object"
      ]
     },
     "execution_count": 9,
     "metadata": {},
     "output_type": "execute_result"
    }
   ],
   "source": [
    "date_added = Netflix_Data['date_added']\n",
    "date_added"
   ]
  },
  {
   "cell_type": "code",
   "execution_count": 10,
   "metadata": {},
   "outputs": [
    {
     "data": {
      "text/plain": [
       "0       2019\n",
       "1       2019\n",
       "2       2019\n",
       "3       2019\n",
       "4       2019\n",
       "        ... \n",
       "5832    1987\n",
       "5833    2009\n",
       "5834    2007\n",
       "5835    2007\n",
       "5836    2006\n",
       "Name: release_year, Length: 5837, dtype: int64"
      ]
     },
     "execution_count": 10,
     "metadata": {},
     "output_type": "execute_result"
    }
   ],
   "source": [
    "release_year = Netflix_Data['release_year']\n",
    "release_year"
   ]
  },
  {
   "cell_type": "markdown",
   "metadata": {},
   "source": [
    "# 3. Análisis por tipo de contenido\n",
    " - ¿Cuál es la duración promedio de las películas y series? ¿Y la mediana? ¿Hay outliers?"
   ]
  },
  {
   "cell_type": "code",
   "execution_count": 11,
   "metadata": {},
   "outputs": [
    {
     "data": {
      "text/html": [
       "<div>\n",
       "<style scoped>\n",
       "    .dataframe tbody tr th:only-of-type {\n",
       "        vertical-align: middle;\n",
       "    }\n",
       "\n",
       "    .dataframe tbody tr th {\n",
       "        vertical-align: top;\n",
       "    }\n",
       "\n",
       "    .dataframe thead th {\n",
       "        text-align: right;\n",
       "    }\n",
       "</style>\n",
       "<table border=\"1\" class=\"dataframe\">\n",
       "  <thead>\n",
       "    <tr style=\"text-align: right;\">\n",
       "      <th></th>\n",
       "      <th>show_id</th>\n",
       "      <th>title</th>\n",
       "      <th>director</th>\n",
       "      <th>cast</th>\n",
       "      <th>country</th>\n",
       "      <th>date_added</th>\n",
       "      <th>release_year</th>\n",
       "      <th>rating</th>\n",
       "      <th>duration</th>\n",
       "      <th>listed_in</th>\n",
       "      <th>description</th>\n",
       "      <th>type</th>\n",
       "      <th>processed_duration</th>\n",
       "    </tr>\n",
       "  </thead>\n",
       "  <tbody>\n",
       "    <tr>\n",
       "      <th>0</th>\n",
       "      <td>81193313</td>\n",
       "      <td>Chocolate</td>\n",
       "      <td>NaN</td>\n",
       "      <td>Ha Ji-won, Yoon Kye-sang, Jang Seung-jo, Kang ...</td>\n",
       "      <td>South Korea</td>\n",
       "      <td>November 30, 2019</td>\n",
       "      <td>2019</td>\n",
       "      <td>TV-14</td>\n",
       "      <td>1 Season</td>\n",
       "      <td>International TV Shows, Korean TV Shows, Roman...</td>\n",
       "      <td>Brought together by meaningful meals in the pa...</td>\n",
       "      <td>TV Show</td>\n",
       "      <td>1</td>\n",
       "    </tr>\n",
       "    <tr>\n",
       "      <th>1</th>\n",
       "      <td>81197050</td>\n",
       "      <td>Guatemala: Heart of the Mayan World</td>\n",
       "      <td>Luis Ara, Ignacio Jaunsolo</td>\n",
       "      <td>Christian Morales</td>\n",
       "      <td>NaN</td>\n",
       "      <td>November 30, 2019</td>\n",
       "      <td>2019</td>\n",
       "      <td>TV-G</td>\n",
       "      <td>67 min</td>\n",
       "      <td>Documentaries, International Movies</td>\n",
       "      <td>From Sierra de las Minas to Esquipulas, explor...</td>\n",
       "      <td>Movie</td>\n",
       "      <td>67</td>\n",
       "    </tr>\n",
       "    <tr>\n",
       "      <th>2</th>\n",
       "      <td>81213894</td>\n",
       "      <td>The Zoya Factor</td>\n",
       "      <td>Abhishek Sharma</td>\n",
       "      <td>Sonam Kapoor, Dulquer Salmaan, Sanjay Kapoor, ...</td>\n",
       "      <td>India</td>\n",
       "      <td>November 30, 2019</td>\n",
       "      <td>2019</td>\n",
       "      <td>TV-14</td>\n",
       "      <td>135 min</td>\n",
       "      <td>Comedies, Dramas, International Movies</td>\n",
       "      <td>A goofy copywriter unwittingly convinces the I...</td>\n",
       "      <td>Movie</td>\n",
       "      <td>135</td>\n",
       "    </tr>\n",
       "    <tr>\n",
       "      <th>3</th>\n",
       "      <td>81082007</td>\n",
       "      <td>Atlantics</td>\n",
       "      <td>Mati Diop</td>\n",
       "      <td>Mama Sane, Amadou Mbow, Ibrahima Traore, Nicol...</td>\n",
       "      <td>France, Senegal, Belgium</td>\n",
       "      <td>November 29, 2019</td>\n",
       "      <td>2019</td>\n",
       "      <td>TV-14</td>\n",
       "      <td>106 min</td>\n",
       "      <td>Dramas, Independent Movies, International Movies</td>\n",
       "      <td>Arranged to marry a rich man, young Ada is cru...</td>\n",
       "      <td>Movie</td>\n",
       "      <td>106</td>\n",
       "    </tr>\n",
       "    <tr>\n",
       "      <th>4</th>\n",
       "      <td>80213643</td>\n",
       "      <td>Chip and Potato</td>\n",
       "      <td>NaN</td>\n",
       "      <td>Abigail Oliver, Andrea Libman, Briana Buckmast...</td>\n",
       "      <td>Canada, United Kingdom</td>\n",
       "      <td>NaN</td>\n",
       "      <td>2019</td>\n",
       "      <td>TV-Y</td>\n",
       "      <td>2 Seasons</td>\n",
       "      <td>Kids' TV</td>\n",
       "      <td>Lovable pug Chip starts kindergarten, makes ne...</td>\n",
       "      <td>TV Show</td>\n",
       "      <td>2</td>\n",
       "    </tr>\n",
       "    <tr>\n",
       "      <th>...</th>\n",
       "      <td>...</td>\n",
       "      <td>...</td>\n",
       "      <td>...</td>\n",
       "      <td>...</td>\n",
       "      <td>...</td>\n",
       "      <td>...</td>\n",
       "      <td>...</td>\n",
       "      <td>...</td>\n",
       "      <td>...</td>\n",
       "      <td>...</td>\n",
       "      <td>...</td>\n",
       "      <td>...</td>\n",
       "      <td>...</td>\n",
       "    </tr>\n",
       "    <tr>\n",
       "      <th>5832</th>\n",
       "      <td>70141644</td>\n",
       "      <td>Mad Ron's Prevues from Hell</td>\n",
       "      <td>Jim Monaco</td>\n",
       "      <td>Nick Pawlow, Jordu Schell, Jay Kushwara, Micha...</td>\n",
       "      <td>United States</td>\n",
       "      <td>November 1, 2010</td>\n",
       "      <td>1987</td>\n",
       "      <td>NR</td>\n",
       "      <td>84 min</td>\n",
       "      <td>Cult Movies, Horror Movies</td>\n",
       "      <td>This collection cherry-picks trailers, forgott...</td>\n",
       "      <td>Movie</td>\n",
       "      <td>84</td>\n",
       "    </tr>\n",
       "    <tr>\n",
       "      <th>5833</th>\n",
       "      <td>70127998</td>\n",
       "      <td>Splatter</td>\n",
       "      <td>Joe Dante</td>\n",
       "      <td>Corey Feldman, Tony Todd, Tara Leigh, Erin Way...</td>\n",
       "      <td>United States</td>\n",
       "      <td>November 18, 2009</td>\n",
       "      <td>2009</td>\n",
       "      <td>TV-14</td>\n",
       "      <td>29 min</td>\n",
       "      <td>Horror Movies</td>\n",
       "      <td>After committing suicide, a washed-up rocker r...</td>\n",
       "      <td>Movie</td>\n",
       "      <td>29</td>\n",
       "    </tr>\n",
       "    <tr>\n",
       "      <th>5834</th>\n",
       "      <td>70084180</td>\n",
       "      <td>Just Another Love Story</td>\n",
       "      <td>Ole Bornedal</td>\n",
       "      <td>Anders W. Berthelsen, Rebecka Hemse, Nikolaj L...</td>\n",
       "      <td>Denmark</td>\n",
       "      <td>May 5, 2009</td>\n",
       "      <td>2007</td>\n",
       "      <td>NR</td>\n",
       "      <td>104 min</td>\n",
       "      <td>Dramas, International Movies</td>\n",
       "      <td>When he causes a car accident that leaves a yo...</td>\n",
       "      <td>Movie</td>\n",
       "      <td>104</td>\n",
       "    </tr>\n",
       "    <tr>\n",
       "      <th>5835</th>\n",
       "      <td>70157452</td>\n",
       "      <td>Dinner for Five</td>\n",
       "      <td>NaN</td>\n",
       "      <td>NaN</td>\n",
       "      <td>United States</td>\n",
       "      <td>February 4, 2008</td>\n",
       "      <td>2007</td>\n",
       "      <td>TV-MA</td>\n",
       "      <td>1 Season</td>\n",
       "      <td>Stand-Up Comedy &amp; Talk Shows</td>\n",
       "      <td>In each episode, four celebrities join host Jo...</td>\n",
       "      <td>TV Show</td>\n",
       "      <td>1</td>\n",
       "    </tr>\n",
       "    <tr>\n",
       "      <th>5836</th>\n",
       "      <td>70053412</td>\n",
       "      <td>To and From New York</td>\n",
       "      <td>Sorin Dan Mihalcescu</td>\n",
       "      <td>Barbara King, Shaana Diya, John Krisiukenas, Y...</td>\n",
       "      <td>United States</td>\n",
       "      <td>January 1, 2008</td>\n",
       "      <td>2006</td>\n",
       "      <td>NR</td>\n",
       "      <td>81 min</td>\n",
       "      <td>Dramas, Independent Movies, Thrillers</td>\n",
       "      <td>While covering a story in New York City, a Sea...</td>\n",
       "      <td>Movie</td>\n",
       "      <td>81</td>\n",
       "    </tr>\n",
       "  </tbody>\n",
       "</table>\n",
       "<p>5837 rows × 13 columns</p>\n",
       "</div>"
      ],
      "text/plain": [
       "       show_id                                title  \\\n",
       "0     81193313                            Chocolate   \n",
       "1     81197050  Guatemala: Heart of the Mayan World   \n",
       "2     81213894                      The Zoya Factor   \n",
       "3     81082007                            Atlantics   \n",
       "4     80213643                      Chip and Potato   \n",
       "...        ...                                  ...   \n",
       "5832  70141644          Mad Ron's Prevues from Hell   \n",
       "5833  70127998                             Splatter   \n",
       "5834  70084180              Just Another Love Story   \n",
       "5835  70157452                      Dinner for Five   \n",
       "5836  70053412                 To and From New York   \n",
       "\n",
       "                        director  \\\n",
       "0                            NaN   \n",
       "1     Luis Ara, Ignacio Jaunsolo   \n",
       "2                Abhishek Sharma   \n",
       "3                      Mati Diop   \n",
       "4                            NaN   \n",
       "...                          ...   \n",
       "5832                  Jim Monaco   \n",
       "5833                   Joe Dante   \n",
       "5834                Ole Bornedal   \n",
       "5835                         NaN   \n",
       "5836        Sorin Dan Mihalcescu   \n",
       "\n",
       "                                                   cast  \\\n",
       "0     Ha Ji-won, Yoon Kye-sang, Jang Seung-jo, Kang ...   \n",
       "1                                     Christian Morales   \n",
       "2     Sonam Kapoor, Dulquer Salmaan, Sanjay Kapoor, ...   \n",
       "3     Mama Sane, Amadou Mbow, Ibrahima Traore, Nicol...   \n",
       "4     Abigail Oliver, Andrea Libman, Briana Buckmast...   \n",
       "...                                                 ...   \n",
       "5832  Nick Pawlow, Jordu Schell, Jay Kushwara, Micha...   \n",
       "5833  Corey Feldman, Tony Todd, Tara Leigh, Erin Way...   \n",
       "5834  Anders W. Berthelsen, Rebecka Hemse, Nikolaj L...   \n",
       "5835                                                NaN   \n",
       "5836  Barbara King, Shaana Diya, John Krisiukenas, Y...   \n",
       "\n",
       "                       country         date_added  release_year rating  \\\n",
       "0                  South Korea  November 30, 2019          2019  TV-14   \n",
       "1                          NaN  November 30, 2019          2019   TV-G   \n",
       "2                        India  November 30, 2019          2019  TV-14   \n",
       "3     France, Senegal, Belgium  November 29, 2019          2019  TV-14   \n",
       "4       Canada, United Kingdom                NaN          2019   TV-Y   \n",
       "...                        ...                ...           ...    ...   \n",
       "5832             United States   November 1, 2010          1987     NR   \n",
       "5833             United States  November 18, 2009          2009  TV-14   \n",
       "5834                   Denmark        May 5, 2009          2007     NR   \n",
       "5835             United States   February 4, 2008          2007  TV-MA   \n",
       "5836             United States    January 1, 2008          2006     NR   \n",
       "\n",
       "       duration                                          listed_in  \\\n",
       "0      1 Season  International TV Shows, Korean TV Shows, Roman...   \n",
       "1        67 min                Documentaries, International Movies   \n",
       "2       135 min             Comedies, Dramas, International Movies   \n",
       "3       106 min   Dramas, Independent Movies, International Movies   \n",
       "4     2 Seasons                                           Kids' TV   \n",
       "...         ...                                                ...   \n",
       "5832     84 min                         Cult Movies, Horror Movies   \n",
       "5833     29 min                                      Horror Movies   \n",
       "5834    104 min                       Dramas, International Movies   \n",
       "5835   1 Season                       Stand-Up Comedy & Talk Shows   \n",
       "5836     81 min              Dramas, Independent Movies, Thrillers   \n",
       "\n",
       "                                            description     type  \\\n",
       "0     Brought together by meaningful meals in the pa...  TV Show   \n",
       "1     From Sierra de las Minas to Esquipulas, explor...    Movie   \n",
       "2     A goofy copywriter unwittingly convinces the I...    Movie   \n",
       "3     Arranged to marry a rich man, young Ada is cru...    Movie   \n",
       "4     Lovable pug Chip starts kindergarten, makes ne...  TV Show   \n",
       "...                                                 ...      ...   \n",
       "5832  This collection cherry-picks trailers, forgott...    Movie   \n",
       "5833  After committing suicide, a washed-up rocker r...    Movie   \n",
       "5834  When he causes a car accident that leaves a yo...    Movie   \n",
       "5835  In each episode, four celebrities join host Jo...  TV Show   \n",
       "5836  While covering a story in New York City, a Sea...    Movie   \n",
       "\n",
       "      processed_duration  \n",
       "0                      1  \n",
       "1                     67  \n",
       "2                    135  \n",
       "3                    106  \n",
       "4                      2  \n",
       "...                  ...  \n",
       "5832                  84  \n",
       "5833                  29  \n",
       "5834                 104  \n",
       "5835                   1  \n",
       "5836                  81  \n",
       "\n",
       "[5837 rows x 13 columns]"
      ]
     },
     "execution_count": 11,
     "metadata": {},
     "output_type": "execute_result"
    }
   ],
   "source": [
    "# Función que procesa la columna 'duration' y extrae la duración en minutos o temporadas\n",
    "def process_duration(duration):\n",
    "    if 'min' in duration:\n",
    "        return int(duration.replace(' min', '')) # Convierte a entero los minutos y elimina ' min'\n",
    "    elif 'Season' in duration:\n",
    "        return int(duration.split(' ')[0]) # Convierte a entero las temporadas y elimina ' Season'\n",
    "    else:\n",
    "        return None  # Casos no contemplados\n",
    "\n",
    "# Se aplica la funcion a la columna 'duration' y se crea una nueva columna 'processed_duration'\n",
    "Netflix_Data['processed_duration'] = Netflix_Data['duration'].apply(process_duration)\n",
    "\n",
    "# Muestra el DataFrame con la nueva columna\n",
    "Netflix_Data"
   ]
  },
  {
   "cell_type": "code",
   "execution_count": 12,
   "metadata": {},
   "outputs": [
    {
     "data": {
      "text/plain": [
       "count    3939.000000\n",
       "mean       98.029195\n",
       "std        27.719096\n",
       "min         3.000000\n",
       "25%        85.000000\n",
       "50%        97.000000\n",
       "75%       113.000000\n",
       "max       312.000000\n",
       "Name: processed_duration, dtype: float64"
      ]
     },
     "execution_count": 12,
     "metadata": {},
     "output_type": "execute_result"
    }
   ],
   "source": [
    "movie_duration_min = Netflix_Data[Netflix_Data['type'] == 'Movie']['processed_duration']\n",
    "\n",
    "\n",
    "movie_duration_min.describe()\n",
    "#print(f\"La duracion promedio de las peliculas es: {movie_duration_min.mean()} minutos\")\n",
    "#print(f\"La mediana de la duracion de las peliculas es: {movie_duration_min.median()} minutos\")"
   ]
  },
  {
   "cell_type": "code",
   "execution_count": 13,
   "metadata": {},
   "outputs": [
    {
     "data": {
      "text/plain": [
       "<Axes: ylabel='Frequency'>"
      ]
     },
     "execution_count": 13,
     "metadata": {},
     "output_type": "execute_result"
    },
    {
     "data": {
      "image/png": "[encoded data removed]",
      "text/plain": [
       "<Figure size 640x480 with 1 Axes>"
      ]
     },
     "metadata": {},
     "output_type": "display_data"
    }
   ],
   "source": [
    "movie_duration_min.plot.hist(bins=20, edgecolor='black', alpha=0.7)"
   ]
  },
  {
   "cell_type": "code",
   "execution_count": 14,
   "metadata": {},
   "outputs": [
    {
     "data": {
      "text/plain": [
       "<Axes: title={'center': 'processed_duration'}, xlabel='type'>"
      ]
     },
     "execution_count": 14,
     "metadata": {},
     "output_type": "execute_result"
    },
    {
     "data": {
      "image/png": "[encoded data removed]",
      "text/plain": [
       "<Figure size 500x1000 with 1 Axes>"
      ]
     },
     "metadata": {},
     "output_type": "display_data"
    }
   ],
   "source": [
    "Netflix_Data_movies = Netflix_Data[Netflix_Data['type'] == 'Movie']\n",
    "Netflix_Data_movies.boxplot(column='processed_duration', by='type', figsize=(5, 10), grid=False)"
   ]
  },
  {
   "cell_type": "code",
   "execution_count": 15,
   "metadata": {},
   "outputs": [
    {
     "data": {
      "text/plain": [
       "count    1898.000000\n",
       "mean        1.800316\n",
       "std         1.644998\n",
       "min         1.000000\n",
       "25%         1.000000\n",
       "50%         1.000000\n",
       "75%         2.000000\n",
       "max        15.000000\n",
       "Name: processed_duration, dtype: float64"
      ]
     },
     "execution_count": 15,
     "metadata": {},
     "output_type": "execute_result"
    }
   ],
   "source": [
    "movie_duration_sea = Netflix_Data[Netflix_Data['type'] == 'TV Show']['processed_duration']\n",
    "\n",
    "\n",
    "movie_duration_sea.describe()"
   ]
  },
  {
   "cell_type": "code",
   "execution_count": 16,
   "metadata": {},
   "outputs": [
    {
     "data": {
      "text/plain": [
       "<Axes: ylabel='Frequency'>"
      ]
     },
     "execution_count": 16,
     "metadata": {},
     "output_type": "execute_result"
    },
    {
     "data": {
      "image/png": "[encoded data removed]",
      "text/plain": [
       "<Figure size 640x480 with 1 Axes>"
      ]
     },
     "metadata": {},
     "output_type": "display_data"
    }
   ],
   "source": [
    "movie_duration_sea.plot.hist(bins=20, edgecolor='black', alpha=0.7)"
   ]
  },
  {
   "cell_type": "code",
   "execution_count": 17,
   "metadata": {},
   "outputs": [
    {
     "data": {
      "text/plain": [
       "<Axes: title={'center': 'processed_duration'}, xlabel='type'>"
      ]
     },
     "execution_count": 17,
     "metadata": {},
     "output_type": "execute_result"
    },
    {
     "data": {
      "image/png": "[encoded data removed]",
      "text/plain": [
       "<Figure size 500x1000 with 1 Axes>"
      ]
     },
     "metadata": {},
     "output_type": "display_data"
    }
   ],
   "source": [
    "Netflix_Data_series = Netflix_Data[Netflix_Data['type'] == 'TV Show']\n",
    "Netflix_Data_series.boxplot(column='processed_duration', by='type', figsize=(5, 10), grid=False)"
   ]
  },
  {
   "cell_type": "markdown",
   "metadata": {},
   "source": [
    "- ¿Cómo ha cambiado la cantidad de contenido agregado a Netflix por año?"
   ]
  },
  {
   "cell_type": "code",
   "execution_count": 18,
   "metadata": {},
   "outputs": [
    {
     "data": {
      "text/html": [
       "<div>\n",
       "<style scoped>\n",
       "    .dataframe tbody tr th:only-of-type {\n",
       "        vertical-align: middle;\n",
       "    }\n",
       "\n",
       "    .dataframe tbody tr th {\n",
       "        vertical-align: top;\n",
       "    }\n",
       "\n",
       "    .dataframe thead th {\n",
       "        text-align: right;\n",
       "    }\n",
       "</style>\n",
       "<table border=\"1\" class=\"dataframe\">\n",
       "  <thead>\n",
       "    <tr style=\"text-align: right;\">\n",
       "      <th></th>\n",
       "      <th>show_id</th>\n",
       "      <th>title</th>\n",
       "      <th>director</th>\n",
       "      <th>cast</th>\n",
       "      <th>country</th>\n",
       "      <th>date_added</th>\n",
       "      <th>release_year</th>\n",
       "      <th>rating</th>\n",
       "      <th>duration</th>\n",
       "      <th>listed_in</th>\n",
       "      <th>description</th>\n",
       "      <th>type</th>\n",
       "      <th>processed_duration</th>\n",
       "      <th>processed_year</th>\n",
       "    </tr>\n",
       "  </thead>\n",
       "  <tbody>\n",
       "    <tr>\n",
       "      <th>0</th>\n",
       "      <td>81193313</td>\n",
       "      <td>Chocolate</td>\n",
       "      <td>NaN</td>\n",
       "      <td>Ha Ji-won, Yoon Kye-sang, Jang Seung-jo, Kang ...</td>\n",
       "      <td>South Korea</td>\n",
       "      <td>November 30, 2019</td>\n",
       "      <td>2019</td>\n",
       "      <td>TV-14</td>\n",
       "      <td>1 Season</td>\n",
       "      <td>International TV Shows, Korean TV Shows, Roman...</td>\n",
       "      <td>Brought together by meaningful meals in the pa...</td>\n",
       "      <td>TV Show</td>\n",
       "      <td>1</td>\n",
       "      <td>2019</td>\n",
       "    </tr>\n",
       "    <tr>\n",
       "      <th>1</th>\n",
       "      <td>81197050</td>\n",
       "      <td>Guatemala: Heart of the Mayan World</td>\n",
       "      <td>Luis Ara, Ignacio Jaunsolo</td>\n",
       "      <td>Christian Morales</td>\n",
       "      <td>NaN</td>\n",
       "      <td>November 30, 2019</td>\n",
       "      <td>2019</td>\n",
       "      <td>TV-G</td>\n",
       "      <td>67 min</td>\n",
       "      <td>Documentaries, International Movies</td>\n",
       "      <td>From Sierra de las Minas to Esquipulas, explor...</td>\n",
       "      <td>Movie</td>\n",
       "      <td>67</td>\n",
       "      <td>2019</td>\n",
       "    </tr>\n",
       "    <tr>\n",
       "      <th>2</th>\n",
       "      <td>81213894</td>\n",
       "      <td>The Zoya Factor</td>\n",
       "      <td>Abhishek Sharma</td>\n",
       "      <td>Sonam Kapoor, Dulquer Salmaan, Sanjay Kapoor, ...</td>\n",
       "      <td>India</td>\n",
       "      <td>November 30, 2019</td>\n",
       "      <td>2019</td>\n",
       "      <td>TV-14</td>\n",
       "      <td>135 min</td>\n",
       "      <td>Comedies, Dramas, International Movies</td>\n",
       "      <td>A goofy copywriter unwittingly convinces the I...</td>\n",
       "      <td>Movie</td>\n",
       "      <td>135</td>\n",
       "      <td>2019</td>\n",
       "    </tr>\n",
       "    <tr>\n",
       "      <th>3</th>\n",
       "      <td>81082007</td>\n",
       "      <td>Atlantics</td>\n",
       "      <td>Mati Diop</td>\n",
       "      <td>Mama Sane, Amadou Mbow, Ibrahima Traore, Nicol...</td>\n",
       "      <td>France, Senegal, Belgium</td>\n",
       "      <td>November 29, 2019</td>\n",
       "      <td>2019</td>\n",
       "      <td>TV-14</td>\n",
       "      <td>106 min</td>\n",
       "      <td>Dramas, Independent Movies, International Movies</td>\n",
       "      <td>Arranged to marry a rich man, young Ada is cru...</td>\n",
       "      <td>Movie</td>\n",
       "      <td>106</td>\n",
       "      <td>2019</td>\n",
       "    </tr>\n",
       "    <tr>\n",
       "      <th>4</th>\n",
       "      <td>80213643</td>\n",
       "      <td>Chip and Potato</td>\n",
       "      <td>NaN</td>\n",
       "      <td>Abigail Oliver, Andrea Libman, Briana Buckmast...</td>\n",
       "      <td>Canada, United Kingdom</td>\n",
       "      <td>NaN</td>\n",
       "      <td>2019</td>\n",
       "      <td>TV-Y</td>\n",
       "      <td>2 Seasons</td>\n",
       "      <td>Kids' TV</td>\n",
       "      <td>Lovable pug Chip starts kindergarten, makes ne...</td>\n",
       "      <td>TV Show</td>\n",
       "      <td>2</td>\n",
       "      <td>&lt;NA&gt;</td>\n",
       "    </tr>\n",
       "    <tr>\n",
       "      <th>...</th>\n",
       "      <td>...</td>\n",
       "      <td>...</td>\n",
       "      <td>...</td>\n",
       "      <td>...</td>\n",
       "      <td>...</td>\n",
       "      <td>...</td>\n",
       "      <td>...</td>\n",
       "      <td>...</td>\n",
       "      <td>...</td>\n",
       "      <td>...</td>\n",
       "      <td>...</td>\n",
       "      <td>...</td>\n",
       "      <td>...</td>\n",
       "      <td>...</td>\n",
       "    </tr>\n",
       "    <tr>\n",
       "      <th>5832</th>\n",
       "      <td>70141644</td>\n",
       "      <td>Mad Ron's Prevues from Hell</td>\n",
       "      <td>Jim Monaco</td>\n",
       "      <td>Nick Pawlow, Jordu Schell, Jay Kushwara, Micha...</td>\n",
       "      <td>United States</td>\n",
       "      <td>November 1, 2010</td>\n",
       "      <td>1987</td>\n",
       "      <td>NR</td>\n",
       "      <td>84 min</td>\n",
       "      <td>Cult Movies, Horror Movies</td>\n",
       "      <td>This collection cherry-picks trailers, forgott...</td>\n",
       "      <td>Movie</td>\n",
       "      <td>84</td>\n",
       "      <td>2010</td>\n",
       "    </tr>\n",
       "    <tr>\n",
       "      <th>5833</th>\n",
       "      <td>70127998</td>\n",
       "      <td>Splatter</td>\n",
       "      <td>Joe Dante</td>\n",
       "      <td>Corey Feldman, Tony Todd, Tara Leigh, Erin Way...</td>\n",
       "      <td>United States</td>\n",
       "      <td>November 18, 2009</td>\n",
       "      <td>2009</td>\n",
       "      <td>TV-14</td>\n",
       "      <td>29 min</td>\n",
       "      <td>Horror Movies</td>\n",
       "      <td>After committing suicide, a washed-up rocker r...</td>\n",
       "      <td>Movie</td>\n",
       "      <td>29</td>\n",
       "      <td>2009</td>\n",
       "    </tr>\n",
       "    <tr>\n",
       "      <th>5834</th>\n",
       "      <td>70084180</td>\n",
       "      <td>Just Another Love Story</td>\n",
       "      <td>Ole Bornedal</td>\n",
       "      <td>Anders W. Berthelsen, Rebecka Hemse, Nikolaj L...</td>\n",
       "      <td>Denmark</td>\n",
       "      <td>May 5, 2009</td>\n",
       "      <td>2007</td>\n",
       "      <td>NR</td>\n",
       "      <td>104 min</td>\n",
       "      <td>Dramas, International Movies</td>\n",
       "      <td>When he causes a car accident that leaves a yo...</td>\n",
       "      <td>Movie</td>\n",
       "      <td>104</td>\n",
       "      <td>2009</td>\n",
       "    </tr>\n",
       "    <tr>\n",
       "      <th>5835</th>\n",
       "      <td>70157452</td>\n",
       "      <td>Dinner for Five</td>\n",
       "      <td>NaN</td>\n",
       "      <td>NaN</td>\n",
       "      <td>United States</td>\n",
       "      <td>February 4, 2008</td>\n",
       "      <td>2007</td>\n",
       "      <td>TV-MA</td>\n",
       "      <td>1 Season</td>\n",
       "      <td>Stand-Up Comedy &amp; Talk Shows</td>\n",
       "      <td>In each episode, four celebrities join host Jo...</td>\n",
       "      <td>TV Show</td>\n",
       "      <td>1</td>\n",
       "      <td>2008</td>\n",
       "    </tr>\n",
       "    <tr>\n",
       "      <th>5836</th>\n",
       "      <td>70053412</td>\n",
       "      <td>To and From New York</td>\n",
       "      <td>Sorin Dan Mihalcescu</td>\n",
       "      <td>Barbara King, Shaana Diya, John Krisiukenas, Y...</td>\n",
       "      <td>United States</td>\n",
       "      <td>January 1, 2008</td>\n",
       "      <td>2006</td>\n",
       "      <td>NR</td>\n",
       "      <td>81 min</td>\n",
       "      <td>Dramas, Independent Movies, Thrillers</td>\n",
       "      <td>While covering a story in New York City, a Sea...</td>\n",
       "      <td>Movie</td>\n",
       "      <td>81</td>\n",
       "      <td>2008</td>\n",
       "    </tr>\n",
       "  </tbody>\n",
       "</table>\n",
       "<p>5837 rows × 14 columns</p>\n",
       "</div>"
      ],
      "text/plain": [
       "       show_id                                title  \\\n",
       "0     81193313                            Chocolate   \n",
       "1     81197050  Guatemala: Heart of the Mayan World   \n",
       "2     81213894                      The Zoya Factor   \n",
       "3     81082007                            Atlantics   \n",
       "4     80213643                      Chip and Potato   \n",
       "...        ...                                  ...   \n",
       "5832  70141644          Mad Ron's Prevues from Hell   \n",
       "5833  70127998                             Splatter   \n",
       "5834  70084180              Just Another Love Story   \n",
       "5835  70157452                      Dinner for Five   \n",
       "5836  70053412                 To and From New York   \n",
       "\n",
       "                        director  \\\n",
       "0                            NaN   \n",
       "1     Luis Ara, Ignacio Jaunsolo   \n",
       "2                Abhishek Sharma   \n",
       "3                      Mati Diop   \n",
       "4                            NaN   \n",
       "...                          ...   \n",
       "5832                  Jim Monaco   \n",
       "5833                   Joe Dante   \n",
       "5834                Ole Bornedal   \n",
       "5835                         NaN   \n",
       "5836        Sorin Dan Mihalcescu   \n",
       "\n",
       "                                                   cast  \\\n",
       "0     Ha Ji-won, Yoon Kye-sang, Jang Seung-jo, Kang ...   \n",
       "1                                     Christian Morales   \n",
       "2     Sonam Kapoor, Dulquer Salmaan, Sanjay Kapoor, ...   \n",
       "3     Mama Sane, Amadou Mbow, Ibrahima Traore, Nicol...   \n",
       "4     Abigail Oliver, Andrea Libman, Briana Buckmast...   \n",
       "...                                                 ...   \n",
       "5832  Nick Pawlow, Jordu Schell, Jay Kushwara, Micha...   \n",
       "5833  Corey Feldman, Tony Todd, Tara Leigh, Erin Way...   \n",
       "5834  Anders W. Berthelsen, Rebecka Hemse, Nikolaj L...   \n",
       "5835                                                NaN   \n",
       "5836  Barbara King, Shaana Diya, John Krisiukenas, Y...   \n",
       "\n",
       "                       country         date_added  release_year rating  \\\n",
       "0                  South Korea  November 30, 2019          2019  TV-14   \n",
       "1                          NaN  November 30, 2019          2019   TV-G   \n",
       "2                        India  November 30, 2019          2019  TV-14   \n",
       "3     France, Senegal, Belgium  November 29, 2019          2019  TV-14   \n",
       "4       Canada, United Kingdom                NaN          2019   TV-Y   \n",
       "...                        ...                ...           ...    ...   \n",
       "5832             United States   November 1, 2010          1987     NR   \n",
       "5833             United States  November 18, 2009          2009  TV-14   \n",
       "5834                   Denmark        May 5, 2009          2007     NR   \n",
       "5835             United States   February 4, 2008          2007  TV-MA   \n",
       "5836             United States    January 1, 2008          2006     NR   \n",
       "\n",
       "       duration                                          listed_in  \\\n",
       "0      1 Season  International TV Shows, Korean TV Shows, Roman...   \n",
       "1        67 min                Documentaries, International Movies   \n",
       "2       135 min             Comedies, Dramas, International Movies   \n",
       "3       106 min   Dramas, Independent Movies, International Movies   \n",
       "4     2 Seasons                                           Kids' TV   \n",
       "...         ...                                                ...   \n",
       "5832     84 min                         Cult Movies, Horror Movies   \n",
       "5833     29 min                                      Horror Movies   \n",
       "5834    104 min                       Dramas, International Movies   \n",
       "5835   1 Season                       Stand-Up Comedy & Talk Shows   \n",
       "5836     81 min              Dramas, Independent Movies, Thrillers   \n",
       "\n",
       "                                            description     type  \\\n",
       "0     Brought together by meaningful meals in the pa...  TV Show   \n",
       "1     From Sierra de las Minas to Esquipulas, explor...    Movie   \n",
       "2     A goofy copywriter unwittingly convinces the I...    Movie   \n",
       "3     Arranged to marry a rich man, young Ada is cru...    Movie   \n",
       "4     Lovable pug Chip starts kindergarten, makes ne...  TV Show   \n",
       "...                                                 ...      ...   \n",
       "5832  This collection cherry-picks trailers, forgott...    Movie   \n",
       "5833  After committing suicide, a washed-up rocker r...    Movie   \n",
       "5834  When he causes a car accident that leaves a yo...    Movie   \n",
       "5835  In each episode, four celebrities join host Jo...  TV Show   \n",
       "5836  While covering a story in New York City, a Sea...    Movie   \n",
       "\n",
       "      processed_duration  processed_year  \n",
       "0                      1            2019  \n",
       "1                     67            2019  \n",
       "2                    135            2019  \n",
       "3                    106            2019  \n",
       "4                      2            <NA>  \n",
       "...                  ...             ...  \n",
       "5832                  84            2010  \n",
       "5833                  29            2009  \n",
       "5834                 104            2009  \n",
       "5835                   1            2008  \n",
       "5836                  81            2008  \n",
       "\n",
       "[5837 rows x 14 columns]"
      ]
     },
     "execution_count": 18,
     "metadata": {},
     "output_type": "execute_result"
    }
   ],
   "source": [
    "# Función que procesa la columna 'date_added' y extrae el año\n",
    "def process_year(date_added):\n",
    "    if pd.notnull(date_added):        # Verifica si el valor no es nulo\n",
    "        return int(date_added.split(', ')[1]) # Extrae el año de la fecha\n",
    "    else:\n",
    "        return None  # Casos no contemplados\n",
    "\n",
    "# Se aplica la función a la columna 'date_added' y se crea una nueva columna 'processed_year'\n",
    "Netflix_Data['processed_year'] = Netflix_Data['date_added'].apply(process_year)\n",
    "\n",
    "Netflix_Data['processed_year'] = Netflix_Data['processed_year'].astype('Int64')  # Cambia el tipo de dato a Int64 para permitir valores nulos\n",
    "\n",
    "# Muestra el DataFrame con la nueva columna\n",
    "Netflix_Data"
   ]
  },
  {
   "cell_type": "code",
   "execution_count": 19,
   "metadata": {},
   "outputs": [
    {
     "data": {
      "text/plain": [
       "show_id                int64\n",
       "title                 object\n",
       "director              object\n",
       "cast                  object\n",
       "country               object\n",
       "date_added            object\n",
       "release_year           int64\n",
       "rating                object\n",
       "duration              object\n",
       "listed_in             object\n",
       "description           object\n",
       "type                  object\n",
       "processed_duration     int64\n",
       "processed_year         Int64\n",
       "dtype: object"
      ]
     },
     "execution_count": 19,
     "metadata": {},
     "output_type": "execute_result"
    }
   ],
   "source": [
    "Netflix_Data.dtypes"
   ]
  },
  {
   "cell_type": "code",
   "execution_count": 20,
   "metadata": {},
   "outputs": [
    {
     "data": {
      "text/plain": [
       "<Axes: xlabel='processed_year'>"
      ]
     },
     "execution_count": 20,
     "metadata": {},
     "output_type": "execute_result"
    },
    {
     "data": {
      "image/png": "[encoded data removed]",
      "text/plain": [
       "<Figure size 1000x500 with 1 Axes>"
      ]
     },
     "metadata": {},
     "output_type": "display_data"
    }
   ],
   "source": [
    "Netflix_Data['processed_year'].value_counts().sort_index().plot(kind='bar', figsize=(10, 5), color='skyblue', edgecolor='black', alpha=0.7)"
   ]
  },
  {
   "cell_type": "markdown",
   "metadata": {},
   "source": [
    "- ¿En qué años se lanzaron más películas o series?"
   ]
  },
  {
   "cell_type": "code",
   "execution_count": 21,
   "metadata": {},
   "outputs": [
    {
     "data": {
      "text/plain": [
       "<Axes: xlabel='release_year'>"
      ]
     },
     "execution_count": 21,
     "metadata": {},
     "output_type": "execute_result"
    },
    {
     "data": {
      "image/png": "[encoded data removed]",
      "text/plain": [
       "<Figure size 2000x700 with 1 Axes>"
      ]
     },
     "metadata": {},
     "output_type": "display_data"
    }
   ],
   "source": [
    "Netflix_Data['release_year'].value_counts().sort_index().plot(kind='bar', figsize=(20, 7), color='skyblue', edgecolor='black', alpha=0.7)"
   ]
  },
  {
   "cell_type": "markdown",
   "metadata": {},
   "source": [
    "# 4. Análisis por país\n",
    "\n",
    "- ¿Qué países producen más contenido en Netflix?"
   ]
  },
  {
   "cell_type": "code",
   "execution_count": 28,
   "metadata": {},
   "outputs": [
    {
     "data": {
      "text/plain": [
       "<Axes: xlabel='country'>"
      ]
     },
     "execution_count": 28,
     "metadata": {},
     "output_type": "execute_result"
    },
    {
     "data": {
      "image/png": "[encoded data removed]",
      "text/plain": [
       "<Figure size 2000x700 with 1 Axes>"
      ]
     },
     "metadata": {},
     "output_type": "display_data"
    }
   ],
   "source": [
    "Netflix_Data['country'].value_counts().head(10).plot(kind='bar', figsize=(20, 7), color='skyblue', edgecolor='black', alpha=0.7)"
   ]
  },
  {
   "cell_type": "markdown",
   "metadata": {},
   "source": [
    "- ¿Hay diferencias entre películas y series por país?"
   ]
  },
  {
   "cell_type": "code",
   "execution_count": 86,
   "metadata": {},
   "outputs": [
    {
     "data": {
      "text/html": [
       "<div>\n",
       "<style scoped>\n",
       "    .dataframe tbody tr th:only-of-type {\n",
       "        vertical-align: middle;\n",
       "    }\n",
       "\n",
       "    .dataframe tbody tr th {\n",
       "        vertical-align: top;\n",
       "    }\n",
       "\n",
       "    .dataframe thead th {\n",
       "        text-align: right;\n",
       "    }\n",
       "</style>\n",
       "<table border=\"1\" class=\"dataframe\">\n",
       "  <thead>\n",
       "    <tr style=\"text-align: right;\">\n",
       "      <th>type</th>\n",
       "      <th>Movie</th>\n",
       "      <th>TV Show</th>\n",
       "    </tr>\n",
       "    <tr>\n",
       "      <th>country</th>\n",
       "      <th></th>\n",
       "      <th></th>\n",
       "    </tr>\n",
       "  </thead>\n",
       "  <tbody>\n",
       "    <tr>\n",
       "      <th>United States</th>\n",
       "      <td>1375</td>\n",
       "      <td>532</td>\n",
       "    </tr>\n",
       "    <tr>\n",
       "      <th>India</th>\n",
       "      <td>645</td>\n",
       "      <td>52</td>\n",
       "    </tr>\n",
       "    <tr>\n",
       "      <th>United Kingdom</th>\n",
       "      <td>162</td>\n",
       "      <td>174</td>\n",
       "    </tr>\n",
       "    <tr>\n",
       "      <th>Canada</th>\n",
       "      <td>87</td>\n",
       "      <td>52</td>\n",
       "    </tr>\n",
       "    <tr>\n",
       "      <th>Spain</th>\n",
       "      <td>78</td>\n",
       "      <td>35</td>\n",
       "    </tr>\n",
       "    <tr>\n",
       "      <th>Turkey</th>\n",
       "      <td>55</td>\n",
       "      <td>23</td>\n",
       "    </tr>\n",
       "    <tr>\n",
       "      <th>Mexico</th>\n",
       "      <td>51</td>\n",
       "      <td>29</td>\n",
       "    </tr>\n",
       "    <tr>\n",
       "      <th>Hong Kong</th>\n",
       "      <td>49</td>\n",
       "      <td>2</td>\n",
       "    </tr>\n",
       "    <tr>\n",
       "      <th>France</th>\n",
       "      <td>48</td>\n",
       "      <td>37</td>\n",
       "    </tr>\n",
       "    <tr>\n",
       "      <th>Japan</th>\n",
       "      <td>44</td>\n",
       "      <td>124</td>\n",
       "    </tr>\n",
       "  </tbody>\n",
       "</table>\n",
       "</div>"
      ],
      "text/plain": [
       "type            Movie  TV Show\n",
       "country                       \n",
       "United States    1375      532\n",
       "India             645       52\n",
       "United Kingdom    162      174\n",
       "Canada             87       52\n",
       "Spain              78       35\n",
       "Turkey             55       23\n",
       "Mexico             51       29\n",
       "Hong Kong          49        2\n",
       "France             48       37\n",
       "Japan              44      124"
      ]
     },
     "execution_count": 86,
     "metadata": {},
     "output_type": "execute_result"
    }
   ],
   "source": [
    "# Agrupar por país y tipo de contenido, y contar las ocurrencias\n",
    "diferencias_pais_tipo = Netflix_Data.groupby(['country', 'type']).size().unstack(fill_value=0)\n",
    "\n",
    "# Mostrar los 10 países con más contenido y sus diferencias entre películas y series\n",
    "diferencias_pais_tipo.sort_values(by='Movie', ascending=False).head(10)"
   ]
  },
  {
   "cell_type": "markdown",
   "metadata": {},
   "source": [
    "- ¿Cuál es la participación de países hispanohablantes?"
   ]
  },
  {
   "cell_type": "code",
   "execution_count": 39,
   "metadata": {},
   "outputs": [],
   "source": [
    "paises_hispanohablantes = [\n",
    "    \"Argentina\",\n",
    "    \"Bolivia\",\n",
    "    \"Chile\",\n",
    "    \"Colombia\",\n",
    "    \"Costa Rica\",\n",
    "    \"Cuba\",\n",
    "    \"Ecuador\",\n",
    "    \"El Salvador\",\n",
    "    \"Guinea Ecuatorial\",\n",
    "    \"Guatemala\",\n",
    "    \"Honduras\",\n",
    "    \"México\",\n",
    "    \"Nicaragua\",\n",
    "    \"Panamá\",\n",
    "    \"Paraguay\",\n",
    "    \"Perú\",\n",
    "    \"Puerto Rico\",  # territorio de EE. UU., pero hispanohablante\n",
    "    \"República Dominicana\",\n",
    "    \"España\",\n",
    "    \"Uruguay\",\n",
    "    \"Venezuela\"\n",
    "]\n"
   ]
  },
  {
   "cell_type": "code",
   "execution_count": 67,
   "metadata": {},
   "outputs": [
    {
     "name": "stdout",
     "output_type": "stream",
     "text": [
      "La participación de los países hispanohablantes es: 2.26%\n"
     ]
    }
   ],
   "source": [
    "# Filtrar el DataFrame para incluir solo los países hispanohablantes, incluso si están acompañados de otros países\n",
    "contenido_hispanohablante = Netflix_Data[Netflix_Data['country'].notnull() & Netflix_Data['country'].str.contains('|'.join(paises_hispanohablantes))]\n",
    "\n",
    "# Calcular la proporción\n",
    "participacion_hispanohablante = len(contenido_hispanohablante) / len(Netflix_Data)\n",
    "\n",
    "print(f\"La participación de los países hispanohablantes es: {participacion_hispanohablante:.2%}\")"
   ]
  },
  {
   "cell_type": "markdown",
   "metadata": {},
   "source": [
    "# 5. Análisis por género (listed_in)\n",
    "\n",
    "- ¿Cuáles son los géneros más comunes?"
   ]
  },
  {
   "cell_type": "code",
   "execution_count": 84,
   "metadata": {},
   "outputs": [
    {
     "data": {
      "text/plain": [
       "<Axes: xlabel='listed_in'>"
      ]
     },
     "execution_count": 84,
     "metadata": {},
     "output_type": "execute_result"
    },
    {
     "data": {
      "image/png": "[encoded data removed]",
      "text/plain": [
       "<Figure size 2000x700 with 1 Axes>"
      ]
     },
     "metadata": {},
     "output_type": "display_data"
    }
   ],
   "source": [
    "Netflix_Data['listed_in'].value_counts().head(10).plot(kind='bar', figsize=(20, 7), color='skyblue', edgecolor='black', alpha=0.7)"
   ]
  },
  {
   "cell_type": "markdown",
   "metadata": {},
   "source": [
    "- ¿Hay géneros que se asocian más a películas o a series?"
   ]
  },
  {
   "cell_type": "code",
   "execution_count": 85,
   "metadata": {
    "vscode": {
     "languageId": "ruby"
    }
   },
   "outputs": [
    {
     "name": "stdout",
     "output_type": "stream",
     "text": [
      "Géneros más asociados a películas:\n",
      "listed_in\n",
      "Documentaries                                       297\n",
      "Stand-Up Comedy                                     265\n",
      "Dramas, International Movies                        238\n",
      "Dramas, Independent Movies, International Movies    170\n",
      "Comedies, Dramas, International Movies              157\n",
      "Documentaries, International Movies                 147\n",
      "Children & Family Movies                            115\n",
      "Comedies, International Movies                      113\n",
      "Children & Family Movies, Comedies                  110\n",
      "Action & Adventure, Dramas, International Movies     96\n",
      "Name: Movie, dtype: int64\n",
      "\n",
      "Géneros más asociados a series:\n",
      "listed_in\n",
      "Kids' TV                                                      153\n",
      "Crime TV Shows, International TV Shows, TV Dramas              91\n",
      "International TV Shows, TV Dramas                              88\n",
      "International TV Shows, Romantic TV Shows, TV Dramas           77\n",
      "Kids' TV, TV Comedies                                          73\n",
      "International TV Shows, Romantic TV Shows, TV Comedies         65\n",
      "Docuseries                                                     64\n",
      "Anime Series, International TV Shows                           59\n",
      "International TV Shows, Korean TV Shows, Romantic TV Shows     51\n",
      "TV Comedies                                                    51\n",
      "Name: TV Show, dtype: int64\n"
     ]
    }
   ],
   "source": [
    "# Agrupar por tipo y género, y contar las ocurrencias\n",
    "genre_association = Netflix_Data.groupby(['type', 'listed_in']).size().unstack(fill_value=0)\n",
    "\n",
    "# Mostrar los géneros más asociados a películas y series\n",
    "most_associated_movies = genre_association.loc['Movie'].sort_values(ascending=False).head(10)\n",
    "most_associated_series = genre_association.loc['TV Show'].sort_values(ascending=False).head(10)\n",
    "\n",
    "print(\"Géneros más asociados a películas:\")\n",
    "print(most_associated_movies)\n",
    "\n",
    "print(\"\\nGéneros más asociados a series:\")\n",
    "print(most_associated_series)"
   ]
  },
  {
   "cell_type": "markdown",
   "metadata": {},
   "source": [
    "- ¿Cuántos géneros tiene normalmente un título?"
   ]
  },
  {
   "cell_type": "code",
   "execution_count": 123,
   "metadata": {},
   "outputs": [
    {
     "data": {
      "text/html": [
       "<div>\n",
       "<style scoped>\n",
       "    .dataframe tbody tr th:only-of-type {\n",
       "        vertical-align: middle;\n",
       "    }\n",
       "\n",
       "    .dataframe tbody tr th {\n",
       "        vertical-align: top;\n",
       "    }\n",
       "\n",
       "    .dataframe thead th {\n",
       "        text-align: right;\n",
       "    }\n",
       "</style>\n",
       "<table border=\"1\" class=\"dataframe\">\n",
       "  <thead>\n",
       "    <tr style=\"text-align: right;\">\n",
       "      <th></th>\n",
       "      <th>total_genres</th>\n",
       "    </tr>\n",
       "  </thead>\n",
       "  <tbody>\n",
       "    <tr>\n",
       "      <th>count</th>\n",
       "      <td>5837.000000</td>\n",
       "    </tr>\n",
       "    <tr>\n",
       "      <th>mean</th>\n",
       "      <td>2.186568</td>\n",
       "    </tr>\n",
       "    <tr>\n",
       "      <th>std</th>\n",
       "      <td>0.790388</td>\n",
       "    </tr>\n",
       "    <tr>\n",
       "      <th>min</th>\n",
       "      <td>1.000000</td>\n",
       "    </tr>\n",
       "    <tr>\n",
       "      <th>25%</th>\n",
       "      <td>2.000000</td>\n",
       "    </tr>\n",
       "    <tr>\n",
       "      <th>50%</th>\n",
       "      <td>2.000000</td>\n",
       "    </tr>\n",
       "    <tr>\n",
       "      <th>75%</th>\n",
       "      <td>3.000000</td>\n",
       "    </tr>\n",
       "    <tr>\n",
       "      <th>max</th>\n",
       "      <td>3.000000</td>\n",
       "    </tr>\n",
       "  </tbody>\n",
       "</table>\n",
       "</div>"
      ],
      "text/plain": [
       "       total_genres\n",
       "count   5837.000000\n",
       "mean       2.186568\n",
       "std        0.790388\n",
       "min        1.000000\n",
       "25%        2.000000\n",
       "50%        2.000000\n",
       "75%        3.000000\n",
       "max        3.000000"
      ]
     },
     "execution_count": 123,
     "metadata": {},
     "output_type": "execute_result"
    }
   ],
   "source": [
    "Netflix_Data['total_genres'] = Netflix_Data['listed_in'].apply(lambda x: len(x.split(',')))\n",
    "Netflix_Data[['title', 'total_genres']].describe()"
   ]
  },
  {
   "cell_type": "code",
   "execution_count": null,
   "metadata": {},
   "outputs": [],
   "source": []
  }
 ],
 "metadata": {
  "kernelspec": {
   "display_name": "Python 3",
   "language": "python",
   "name": "python3"
  },
  "language_info": {
   "codemirror_mode": {
    "name": "ipython",
    "version": 3
   },
   "file_extension": ".py",
   "mimetype": "text/x-python",
   "name": "python",
   "nbconvert_exporter": "python",
   "pygments_lexer": "ipython3",
   "version": "3.10.8"
  }
 },
 "nbformat": 4,
 "nbformat_minor": 2
}
