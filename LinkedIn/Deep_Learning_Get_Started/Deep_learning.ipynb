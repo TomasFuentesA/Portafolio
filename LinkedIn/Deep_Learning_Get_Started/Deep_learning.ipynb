{
 "cells": [
  {
   "cell_type": "code",
   "execution_count": 40,
   "metadata": {},
   "outputs": [
    {
     "name": "stdout",
     "output_type": "stream",
     "text": [
      "Requirement already satisfied: pandas in c:\\users\\swamp\\appdata\\local\\programs\\python\\python310\\lib\\site-packages (2.0.3)\n",
      "Requirement already satisfied: numpy>=1.21.0 in c:\\users\\swamp\\appdata\\local\\programs\\python\\python310\\lib\\site-packages (from pandas) (1.24.3)\n",
      "Requirement already satisfied: tzdata>=2022.1 in c:\\users\\swamp\\appdata\\local\\programs\\python\\python310\\lib\\site-packages (from pandas) (2023.3)\n",
      "Requirement already satisfied: pytz>=2020.1 in c:\\users\\swamp\\appdata\\local\\programs\\python\\python310\\lib\\site-packages (from pandas) (2023.3)\n",
      "Requirement already satisfied: python-dateutil>=2.8.2 in c:\\users\\swamp\\appdata\\roaming\\python\\python310\\site-packages (from pandas) (2.8.2)\n",
      "Requirement already satisfied: six>=1.5 in c:\\users\\swamp\\appdata\\roaming\\python\\python310\\site-packages (from python-dateutil>=2.8.2->pandas) (1.16.0)\n",
      "Note: you may need to restart the kernel to use updated packages.\n"
     ]
    },
    {
     "name": "stderr",
     "output_type": "stream",
     "text": [
      "\n",
      "[notice] A new release of pip available: 22.2.2 -> 23.2\n",
      "[notice] To update, run: python.exe -m pip install --upgrade pip\n"
     ]
    },
    {
     "name": "stdout",
     "output_type": "stream",
     "text": [
      "Requirement already satisfied: tensorflow in c:\\users\\swamp\\appdata\\local\\programs\\python\\python310\\lib\\site-packages (2.13.0)\n",
      "Requirement already satisfied: tensorflow-intel==2.13.0 in c:\\users\\swamp\\appdata\\local\\programs\\python\\python310\\lib\\site-packages (from tensorflow) (2.13.0)\n",
      "Requirement already satisfied: grpcio<2.0,>=1.24.3 in c:\\users\\swamp\\appdata\\local\\programs\\python\\python310\\lib\\site-packages (from tensorflow-intel==2.13.0->tensorflow) (1.56.2)\n",
      "Requirement already satisfied: tensorflow-io-gcs-filesystem>=0.23.1 in c:\\users\\swamp\\appdata\\local\\programs\\python\\python310\\lib\\site-packages (from tensorflow-intel==2.13.0->tensorflow) (0.31.0)\n",
      "Requirement already satisfied: tensorboard<2.14,>=2.13 in c:\\users\\swamp\\appdata\\local\\programs\\python\\python310\\lib\\site-packages (from tensorflow-intel==2.13.0->tensorflow) (2.13.0)\n",
      "Requirement already satisfied: typing-extensions<4.6.0,>=3.6.6 in c:\\users\\swamp\\appdata\\local\\programs\\python\\python310\\lib\\site-packages (from tensorflow-intel==2.13.0->tensorflow) (4.5.0)\n",
      "Requirement already satisfied: absl-py>=1.0.0 in c:\\users\\swamp\\appdata\\local\\programs\\python\\python310\\lib\\site-packages (from tensorflow-intel==2.13.0->tensorflow) (1.4.0)\n",
      "Requirement already satisfied: keras<2.14,>=2.13.1 in c:\\users\\swamp\\appdata\\local\\programs\\python\\python310\\lib\\site-packages (from tensorflow-intel==2.13.0->tensorflow) (2.13.1)\n",
      "Requirement already satisfied: h5py>=2.9.0 in c:\\users\\swamp\\appdata\\local\\programs\\python\\python310\\lib\\site-packages (from tensorflow-intel==2.13.0->tensorflow) (3.9.0)\n",
      "Requirement already satisfied: flatbuffers>=23.1.21 in c:\\users\\swamp\\appdata\\local\\programs\\python\\python310\\lib\\site-packages (from tensorflow-intel==2.13.0->tensorflow) (23.5.26)\n",
      "Requirement already satisfied: six>=1.12.0 in c:\\users\\swamp\\appdata\\roaming\\python\\python310\\site-packages (from tensorflow-intel==2.13.0->tensorflow) (1.16.0)\n",
      "Requirement already satisfied: tensorflow-estimator<2.14,>=2.13.0 in c:\\users\\swamp\\appdata\\local\\programs\\python\\python310\\lib\\site-packages (from tensorflow-intel==2.13.0->tensorflow) (2.13.0)\n",
      "Requirement already satisfied: protobuf!=4.21.0,!=4.21.1,!=4.21.2,!=4.21.3,!=4.21.4,!=4.21.5,<5.0.0dev,>=3.20.3 in c:\\users\\swamp\\appdata\\local\\programs\\python\\python310\\lib\\site-packages (from tensorflow-intel==2.13.0->tensorflow) (4.23.4)\n",
      "Requirement already satisfied: gast<=0.4.0,>=0.2.1 in c:\\users\\swamp\\appdata\\local\\programs\\python\\python310\\lib\\site-packages (from tensorflow-intel==2.13.0->tensorflow) (0.4.0)\n",
      "Requirement already satisfied: astunparse>=1.6.0 in c:\\users\\swamp\\appdata\\local\\programs\\python\\python310\\lib\\site-packages (from tensorflow-intel==2.13.0->tensorflow) (1.6.3)\n",
      "Requirement already satisfied: setuptools in c:\\users\\swamp\\appdata\\local\\programs\\python\\python310\\lib\\site-packages (from tensorflow-intel==2.13.0->tensorflow) (63.2.0)\n",
      "Requirement already satisfied: numpy<=1.24.3,>=1.22 in c:\\users\\swamp\\appdata\\local\\programs\\python\\python310\\lib\\site-packages (from tensorflow-intel==2.13.0->tensorflow) (1.24.3)\n",
      "Requirement already satisfied: google-pasta>=0.1.1 in c:\\users\\swamp\\appdata\\local\\programs\\python\\python310\\lib\\site-packages (from tensorflow-intel==2.13.0->tensorflow) (0.2.0)\n",
      "Requirement already satisfied: opt-einsum>=2.3.2 in c:\\users\\swamp\\appdata\\local\\programs\\python\\python310\\lib\\site-packages (from tensorflow-intel==2.13.0->tensorflow) (3.3.0)\n",
      "Requirement already satisfied: packaging in c:\\users\\swamp\\appdata\\roaming\\python\\python310\\site-packages (from tensorflow-intel==2.13.0->tensorflow) (23.1)\n",
      "Requirement already satisfied: termcolor>=1.1.0 in c:\\users\\swamp\\appdata\\local\\programs\\python\\python310\\lib\\site-packages (from tensorflow-intel==2.13.0->tensorflow) (2.3.0)\n",
      "Requirement already satisfied: wrapt>=1.11.0 in c:\\users\\swamp\\appdata\\local\\programs\\python\\python310\\lib\\site-packages (from tensorflow-intel==2.13.0->tensorflow) (1.15.0)\n",
      "Requirement already satisfied: libclang>=13.0.0 in c:\\users\\swamp\\appdata\\local\\programs\\python\\python310\\lib\\site-packages (from tensorflow-intel==2.13.0->tensorflow) (16.0.6)\n",
      "Requirement already satisfied: wheel<1.0,>=0.23.0 in c:\\users\\swamp\\appdata\\local\\programs\\python\\python310\\lib\\site-packages (from astunparse>=1.6.0->tensorflow-intel==2.13.0->tensorflow) (0.40.0)\n",
      "Requirement already satisfied: google-auth<3,>=1.6.3 in c:\\users\\swamp\\appdata\\local\\programs\\python\\python310\\lib\\site-packages (from tensorboard<2.14,>=2.13->tensorflow-intel==2.13.0->tensorflow) (2.22.0)\n",
      "Requirement already satisfied: werkzeug>=1.0.1 in c:\\users\\swamp\\appdata\\local\\programs\\python\\python310\\lib\\site-packages (from tensorboard<2.14,>=2.13->tensorflow-intel==2.13.0->tensorflow) (2.3.6)\n",
      "Requirement already satisfied: tensorboard-data-server<0.8.0,>=0.7.0 in c:\\users\\swamp\\appdata\\local\\programs\\python\\python310\\lib\\site-packages (from tensorboard<2.14,>=2.13->tensorflow-intel==2.13.0->tensorflow) (0.7.1)\n",
      "Requirement already satisfied: google-auth-oauthlib<1.1,>=0.5 in c:\\users\\swamp\\appdata\\local\\programs\\python\\python310\\lib\\site-packages (from tensorboard<2.14,>=2.13->tensorflow-intel==2.13.0->tensorflow) (1.0.0)\n",
      "Requirement already satisfied: markdown>=2.6.8 in c:\\users\\swamp\\appdata\\local\\programs\\python\\python310\\lib\\site-packages (from tensorboard<2.14,>=2.13->tensorflow-intel==2.13.0->tensorflow) (3.4.3)\n",
      "Requirement already satisfied: requests<3,>=2.21.0 in c:\\users\\swamp\\appdata\\local\\programs\\python\\python310\\lib\\site-packages (from tensorboard<2.14,>=2.13->tensorflow-intel==2.13.0->tensorflow) (2.31.0)\n",
      "Requirement already satisfied: rsa<5,>=3.1.4 in c:\\users\\swamp\\appdata\\local\\programs\\python\\python310\\lib\\site-packages (from google-auth<3,>=1.6.3->tensorboard<2.14,>=2.13->tensorflow-intel==2.13.0->tensorflow) (4.9)\n",
      "Requirement already satisfied: pyasn1-modules>=0.2.1 in c:\\users\\swamp\\appdata\\local\\programs\\python\\python310\\lib\\site-packages (from google-auth<3,>=1.6.3->tensorboard<2.14,>=2.13->tensorflow-intel==2.13.0->tensorflow) (0.3.0)\n",
      "Requirement already satisfied: cachetools<6.0,>=2.0.0 in c:\\users\\swamp\\appdata\\local\\programs\\python\\python310\\lib\\site-packages (from google-auth<3,>=1.6.3->tensorboard<2.14,>=2.13->tensorflow-intel==2.13.0->tensorflow) (5.3.1)\n",
      "Requirement already satisfied: urllib3<2.0 in c:\\users\\swamp\\appdata\\local\\programs\\python\\python310\\lib\\site-packages (from google-auth<3,>=1.6.3->tensorboard<2.14,>=2.13->tensorflow-intel==2.13.0->tensorflow) (1.26.16)\n",
      "Requirement already satisfied: requests-oauthlib>=0.7.0 in c:\\users\\swamp\\appdata\\local\\programs\\python\\python310\\lib\\site-packages (from google-auth-oauthlib<1.1,>=0.5->tensorboard<2.14,>=2.13->tensorflow-intel==2.13.0->tensorflow) (1.3.1)\n",
      "Requirement already satisfied: idna<4,>=2.5 in c:\\users\\swamp\\appdata\\local\\programs\\python\\python310\\lib\\site-packages (from requests<3,>=2.21.0->tensorboard<2.14,>=2.13->tensorflow-intel==2.13.0->tensorflow) (3.4)\n",
      "Requirement already satisfied: certifi>=2017.4.17 in c:\\users\\swamp\\appdata\\local\\programs\\python\\python310\\lib\\site-packages (from requests<3,>=2.21.0->tensorboard<2.14,>=2.13->tensorflow-intel==2.13.0->tensorflow) (2023.5.7)\n",
      "Requirement already satisfied: charset-normalizer<4,>=2 in c:\\users\\swamp\\appdata\\local\\programs\\python\\python310\\lib\\site-packages (from requests<3,>=2.21.0->tensorboard<2.14,>=2.13->tensorflow-intel==2.13.0->tensorflow) (3.2.0)\n",
      "Requirement already satisfied: MarkupSafe>=2.1.1 in c:\\users\\swamp\\appdata\\local\\programs\\python\\python310\\lib\\site-packages (from werkzeug>=1.0.1->tensorboard<2.14,>=2.13->tensorflow-intel==2.13.0->tensorflow) (2.1.3)\n",
      "Requirement already satisfied: pyasn1<0.6.0,>=0.4.6 in c:\\users\\swamp\\appdata\\local\\programs\\python\\python310\\lib\\site-packages (from pyasn1-modules>=0.2.1->google-auth<3,>=1.6.3->tensorboard<2.14,>=2.13->tensorflow-intel==2.13.0->tensorflow) (0.5.0)\n",
      "Requirement already satisfied: oauthlib>=3.0.0 in c:\\users\\swamp\\appdata\\local\\programs\\python\\python310\\lib\\site-packages (from requests-oauthlib>=0.7.0->google-auth-oauthlib<1.1,>=0.5->tensorboard<2.14,>=2.13->tensorflow-intel==2.13.0->tensorflow) (3.2.2)\n",
      "Note: you may need to restart the kernel to use updated packages.\n"
     ]
    },
    {
     "name": "stderr",
     "output_type": "stream",
     "text": [
      "\n",
      "[notice] A new release of pip available: 22.2.2 -> 23.2\n",
      "[notice] To update, run: python.exe -m pip install --upgrade pip\n"
     ]
    },
    {
     "name": "stdout",
     "output_type": "stream",
     "text": [
      "Requirement already satisfied: sklearn in c:\\users\\swamp\\appdata\\local\\programs\\python\\python310\\lib\\site-packages (0.0.post7)\n",
      "Note: you may need to restart the kernel to use updated packages.\n"
     ]
    },
    {
     "name": "stderr",
     "output_type": "stream",
     "text": [
      "\n",
      "[notice] A new release of pip available: 22.2.2 -> 23.2\n",
      "[notice] To update, run: python.exe -m pip install --upgrade pip\n"
     ]
    },
    {
     "name": "stdout",
     "output_type": "stream",
     "text": [
      "Requirement already satisfied: matplotlib in c:\\users\\swamp\\appdata\\local\\programs\\python\\python310\\lib\\site-packages (3.7.2)\n",
      "Requirement already satisfied: kiwisolver>=1.0.1 in c:\\users\\swamp\\appdata\\local\\programs\\python\\python310\\lib\\site-packages (from matplotlib) (1.4.4)\n",
      "Requirement already satisfied: packaging>=20.0 in c:\\users\\swamp\\appdata\\roaming\\python\\python310\\site-packages (from matplotlib) (23.1)\n",
      "Requirement already satisfied: pyparsing<3.1,>=2.3.1 in c:\\users\\swamp\\appdata\\local\\programs\\python\\python310\\lib\\site-packages (from matplotlib) (3.0.9)\n",
      "Requirement already satisfied: python-dateutil>=2.7 in c:\\users\\swamp\\appdata\\roaming\\python\\python310\\site-packages (from matplotlib) (2.8.2)\n",
      "Requirement already satisfied: pillow>=6.2.0 in c:\\users\\swamp\\appdata\\local\\programs\\python\\python310\\lib\\site-packages (from matplotlib) (10.0.0)\n",
      "Requirement already satisfied: numpy>=1.20 in c:\\users\\swamp\\appdata\\local\\programs\\python\\python310\\lib\\site-packages (from matplotlib) (1.24.3)\n",
      "Requirement already satisfied: contourpy>=1.0.1 in c:\\users\\swamp\\appdata\\local\\programs\\python\\python310\\lib\\site-packages (from matplotlib) (1.1.0)\n",
      "Requirement already satisfied: cycler>=0.10 in c:\\users\\swamp\\appdata\\local\\programs\\python\\python310\\lib\\site-packages (from matplotlib) (0.11.0)\n",
      "Requirement already satisfied: fonttools>=4.22.0 in c:\\users\\swamp\\appdata\\local\\programs\\python\\python310\\lib\\site-packages (from matplotlib) (4.41.0)\n",
      "Requirement already satisfied: six>=1.5 in c:\\users\\swamp\\appdata\\roaming\\python\\python310\\site-packages (from python-dateutil>=2.7->matplotlib) (1.16.0)\n",
      "Note: you may need to restart the kernel to use updated packages.\n"
     ]
    },
    {
     "name": "stderr",
     "output_type": "stream",
     "text": [
      "\n",
      "[notice] A new release of pip available: 22.2.2 -> 23.2\n",
      "[notice] To update, run: python.exe -m pip install --upgrade pip\n"
     ]
    }
   ],
   "source": [
    "%pip install pandas\n",
    "%pip install tensorflow\n",
    "%pip install sklearn\n",
    "%pip install matplotlib"
   ]
  },
  {
   "cell_type": "code",
   "execution_count": 41,
   "metadata": {},
   "outputs": [
    {
     "data": {
      "text/html": [
       "<div>\n",
       "<style scoped>\n",
       "    .dataframe tbody tr th:only-of-type {\n",
       "        vertical-align: middle;\n",
       "    }\n",
       "\n",
       "    .dataframe tbody tr th {\n",
       "        vertical-align: top;\n",
       "    }\n",
       "\n",
       "    .dataframe thead th {\n",
       "        text-align: right;\n",
       "    }\n",
       "</style>\n",
       "<table border=\"1\" class=\"dataframe\">\n",
       "  <thead>\n",
       "    <tr style=\"text-align: right;\">\n",
       "      <th></th>\n",
       "      <th>ID</th>\n",
       "      <th>CPU_LOAD</th>\n",
       "      <th>MEMORY_LEAK_LOAD</th>\n",
       "      <th>DELAY</th>\n",
       "      <th>ERROR_1000</th>\n",
       "      <th>ERROR_1001</th>\n",
       "      <th>ERROR_1002</th>\n",
       "      <th>ERROR_1003</th>\n",
       "      <th>ROOT_CAUSE</th>\n",
       "    </tr>\n",
       "  </thead>\n",
       "  <tbody>\n",
       "    <tr>\n",
       "      <th>0</th>\n",
       "      <td>1</td>\n",
       "      <td>0</td>\n",
       "      <td>0</td>\n",
       "      <td>0</td>\n",
       "      <td>0</td>\n",
       "      <td>1</td>\n",
       "      <td>0</td>\n",
       "      <td>1</td>\n",
       "      <td>MEMORY_LEAK</td>\n",
       "    </tr>\n",
       "    <tr>\n",
       "      <th>1</th>\n",
       "      <td>2</td>\n",
       "      <td>0</td>\n",
       "      <td>0</td>\n",
       "      <td>0</td>\n",
       "      <td>0</td>\n",
       "      <td>0</td>\n",
       "      <td>0</td>\n",
       "      <td>1</td>\n",
       "      <td>MEMORY_LEAK</td>\n",
       "    </tr>\n",
       "    <tr>\n",
       "      <th>2</th>\n",
       "      <td>3</td>\n",
       "      <td>0</td>\n",
       "      <td>1</td>\n",
       "      <td>1</td>\n",
       "      <td>0</td>\n",
       "      <td>0</td>\n",
       "      <td>1</td>\n",
       "      <td>1</td>\n",
       "      <td>MEMORY_LEAK</td>\n",
       "    </tr>\n",
       "    <tr>\n",
       "      <th>3</th>\n",
       "      <td>4</td>\n",
       "      <td>0</td>\n",
       "      <td>1</td>\n",
       "      <td>0</td>\n",
       "      <td>1</td>\n",
       "      <td>1</td>\n",
       "      <td>0</td>\n",
       "      <td>1</td>\n",
       "      <td>MEMORY_LEAK</td>\n",
       "    </tr>\n",
       "    <tr>\n",
       "      <th>4</th>\n",
       "      <td>5</td>\n",
       "      <td>1</td>\n",
       "      <td>1</td>\n",
       "      <td>0</td>\n",
       "      <td>1</td>\n",
       "      <td>0</td>\n",
       "      <td>1</td>\n",
       "      <td>0</td>\n",
       "      <td>NETWORK_DELAY</td>\n",
       "    </tr>\n",
       "  </tbody>\n",
       "</table>\n",
       "</div>"
      ],
      "text/plain": [
       "   ID  CPU_LOAD  MEMORY_LEAK_LOAD  DELAY  ERROR_1000  ERROR_1001  ERROR_1002  \\\n",
       "0   1         0                 0      0           0           1           0   \n",
       "1   2         0                 0      0           0           0           0   \n",
       "2   3         0                 1      1           0           0           1   \n",
       "3   4         0                 1      0           1           1           0   \n",
       "4   5         1                 1      0           1           0           1   \n",
       "\n",
       "   ERROR_1003     ROOT_CAUSE  \n",
       "0           1    MEMORY_LEAK  \n",
       "1           1    MEMORY_LEAK  \n",
       "2           1    MEMORY_LEAK  \n",
       "3           1    MEMORY_LEAK  \n",
       "4           0  NETWORK_DELAY  "
      ]
     },
     "execution_count": 41,
     "metadata": {},
     "output_type": "execute_result"
    }
   ],
   "source": [
    "import pandas as pd\n",
    "import os\n",
    "import tensorflow as tf\n",
    "import numpy as np\n",
    "from sklearn.model_selection import train_test_split\n",
    "from sklearn.preprocessing import StandardScaler\n",
    "\n",
    "cause_data = pd.read_csv(\"root_cause_analysis.csv\")\n",
    "\n",
    "cause_data.head()"
   ]
  },
  {
   "cell_type": "code",
   "execution_count": 42,
   "metadata": {},
   "outputs": [
    {
     "data": {
      "text/html": [
       "<div>\n",
       "<style scoped>\n",
       "    .dataframe tbody tr th:only-of-type {\n",
       "        vertical-align: middle;\n",
       "    }\n",
       "\n",
       "    .dataframe tbody tr th {\n",
       "        vertical-align: top;\n",
       "    }\n",
       "\n",
       "    .dataframe thead th {\n",
       "        text-align: right;\n",
       "    }\n",
       "</style>\n",
       "<table border=\"1\" class=\"dataframe\">\n",
       "  <thead>\n",
       "    <tr style=\"text-align: right;\">\n",
       "      <th></th>\n",
       "      <th>ROOT_CAUSE</th>\n",
       "    </tr>\n",
       "  </thead>\n",
       "  <tbody>\n",
       "    <tr>\n",
       "      <th>count</th>\n",
       "      <td>1000</td>\n",
       "    </tr>\n",
       "    <tr>\n",
       "      <th>unique</th>\n",
       "      <td>3</td>\n",
       "    </tr>\n",
       "    <tr>\n",
       "      <th>top</th>\n",
       "      <td>DATABASE_ISSUE</td>\n",
       "    </tr>\n",
       "    <tr>\n",
       "      <th>freq</th>\n",
       "      <td>340</td>\n",
       "    </tr>\n",
       "  </tbody>\n",
       "</table>\n",
       "</div>"
      ],
      "text/plain": [
       "            ROOT_CAUSE\n",
       "count             1000\n",
       "unique               3\n",
       "top     DATABASE_ISSUE\n",
       "freq               340"
      ]
     },
     "execution_count": 42,
     "metadata": {},
     "output_type": "execute_result"
    }
   ],
   "source": [
    "cause_data[['ROOT_CAUSE']].describe()"
   ]
  },
  {
   "cell_type": "code",
   "execution_count": 133,
   "metadata": {},
   "outputs": [
    {
     "name": "stdout",
     "output_type": "stream",
     "text": [
      "<class 'pandas.core.frame.DataFrame'>\n",
      "RangeIndex: 1000 entries, 0 to 999\n",
      "Data columns (total 9 columns):\n",
      " #   Column            Non-Null Count  Dtype \n",
      "---  ------            --------------  ----- \n",
      " 0   ID                1000 non-null   int64 \n",
      " 1   CPU_LOAD          1000 non-null   int64 \n",
      " 2   MEMORY_LEAK_LOAD  1000 non-null   int64 \n",
      " 3   DELAY             1000 non-null   int64 \n",
      " 4   ERROR_1000        1000 non-null   int64 \n",
      " 5   ERROR_1001        1000 non-null   int64 \n",
      " 6   ERROR_1002        1000 non-null   int64 \n",
      " 7   ERROR_1003        1000 non-null   int64 \n",
      " 8   ROOT_CAUSE        1000 non-null   object\n",
      "dtypes: int64(8), object(1)\n",
      "memory usage: 70.4+ KB\n"
     ]
    }
   ],
   "source": [
    "cause_data.info()"
   ]
  },
  {
   "cell_type": "code",
   "execution_count": 134,
   "metadata": {},
   "outputs": [],
   "source": [
    "from sklearn import preprocessing\n",
    "label_encoder= preprocessing.LabelEncoder() #string to numerical\n",
    "cause_data['ROOT_CAUSE'] = label_encoder.fit_transform(\n",
    "    cause_data['ROOT_CAUSE']\n",
    ")\n",
    "\n"
   ]
  },
  {
   "cell_type": "code",
   "execution_count": 155,
   "metadata": {},
   "outputs": [
    {
     "data": {
      "text/html": [
       "<div>\n",
       "<style scoped>\n",
       "    .dataframe tbody tr th:only-of-type {\n",
       "        vertical-align: middle;\n",
       "    }\n",
       "\n",
       "    .dataframe tbody tr th {\n",
       "        vertical-align: top;\n",
       "    }\n",
       "\n",
       "    .dataframe thead th {\n",
       "        text-align: right;\n",
       "    }\n",
       "</style>\n",
       "<table border=\"1\" class=\"dataframe\">\n",
       "  <thead>\n",
       "    <tr style=\"text-align: right;\">\n",
       "      <th></th>\n",
       "      <th>ROOT_CAUSE</th>\n",
       "    </tr>\n",
       "  </thead>\n",
       "  <tbody>\n",
       "    <tr>\n",
       "      <th>0</th>\n",
       "      <td>1</td>\n",
       "    </tr>\n",
       "    <tr>\n",
       "      <th>1</th>\n",
       "      <td>1</td>\n",
       "    </tr>\n",
       "    <tr>\n",
       "      <th>2</th>\n",
       "      <td>1</td>\n",
       "    </tr>\n",
       "    <tr>\n",
       "      <th>3</th>\n",
       "      <td>1</td>\n",
       "    </tr>\n",
       "    <tr>\n",
       "      <th>4</th>\n",
       "      <td>2</td>\n",
       "    </tr>\n",
       "  </tbody>\n",
       "</table>\n",
       "</div>"
      ],
      "text/plain": [
       "   ROOT_CAUSE\n",
       "0           1\n",
       "1           1\n",
       "2           1\n",
       "3           1\n",
       "4           2"
      ]
     },
     "execution_count": 155,
     "metadata": {},
     "output_type": "execute_result"
    }
   ],
   "source": [
    "y = cause_data[['ROOT_CAUSE']]\n",
    "y.head()"
   ]
  },
  {
   "cell_type": "code",
   "execution_count": 156,
   "metadata": {},
   "outputs": [
    {
     "name": "stdout",
     "output_type": "stream",
     "text": [
      "[[0. 1. 0.]\n",
      " [0. 1. 0.]\n",
      " [0. 1. 0.]\n",
      " ...\n",
      " [0. 1. 0.]\n",
      " [0. 0. 1.]\n",
      " [1. 0. 0.]]\n"
     ]
    }
   ],
   "source": [
    "y = tf.keras.utils.to_categorical(y, 3)\n",
    "print(y)"
   ]
  },
  {
   "cell_type": "code",
   "execution_count": 157,
   "metadata": {},
   "outputs": [
    {
     "data": {
      "text/plain": [
       "['ID',\n",
       " 'CPU_LOAD',\n",
       " 'MEMORY_LEAK_LOAD',\n",
       " 'DELAY',\n",
       " 'ERROR_1000',\n",
       " 'ERROR_1001',\n",
       " 'ERROR_1002',\n",
       " 'ERROR_1003',\n",
       " 'ROOT_CAUSE']"
      ]
     },
     "execution_count": 157,
     "metadata": {},
     "output_type": "execute_result"
    }
   ],
   "source": [
    "predictors = list(cause_data.columns)\n",
    "predictors"
   ]
  },
  {
   "cell_type": "code",
   "execution_count": 158,
   "metadata": {},
   "outputs": [
    {
     "data": {
      "text/plain": [
       "['CPU_LOAD',\n",
       " 'MEMORY_LEAK_LOAD',\n",
       " 'DELAY',\n",
       " 'ERROR_1000',\n",
       " 'ERROR_1001',\n",
       " 'ERROR_1002',\n",
       " 'ERROR_1003']"
      ]
     },
     "execution_count": 158,
     "metadata": {},
     "output_type": "execute_result"
    }
   ],
   "source": [
    "predictors.remove('ROOT_CAUSE')\n",
    "predictors.remove('ID')\n",
    "predictors"
   ]
  },
  {
   "cell_type": "code",
   "execution_count": 159,
   "metadata": {},
   "outputs": [
    {
     "data": {
      "text/html": [
       "<div>\n",
       "<style scoped>\n",
       "    .dataframe tbody tr th:only-of-type {\n",
       "        vertical-align: middle;\n",
       "    }\n",
       "\n",
       "    .dataframe tbody tr th {\n",
       "        vertical-align: top;\n",
       "    }\n",
       "\n",
       "    .dataframe thead th {\n",
       "        text-align: right;\n",
       "    }\n",
       "</style>\n",
       "<table border=\"1\" class=\"dataframe\">\n",
       "  <thead>\n",
       "    <tr style=\"text-align: right;\">\n",
       "      <th></th>\n",
       "      <th>CPU_LOAD</th>\n",
       "      <th>MEMORY_LEAK_LOAD</th>\n",
       "      <th>DELAY</th>\n",
       "      <th>ERROR_1000</th>\n",
       "      <th>ERROR_1001</th>\n",
       "      <th>ERROR_1002</th>\n",
       "      <th>ERROR_1003</th>\n",
       "    </tr>\n",
       "  </thead>\n",
       "  <tbody>\n",
       "    <tr>\n",
       "      <th>0</th>\n",
       "      <td>0</td>\n",
       "      <td>0</td>\n",
       "      <td>0</td>\n",
       "      <td>0</td>\n",
       "      <td>1</td>\n",
       "      <td>0</td>\n",
       "      <td>1</td>\n",
       "    </tr>\n",
       "    <tr>\n",
       "      <th>1</th>\n",
       "      <td>0</td>\n",
       "      <td>0</td>\n",
       "      <td>0</td>\n",
       "      <td>0</td>\n",
       "      <td>0</td>\n",
       "      <td>0</td>\n",
       "      <td>1</td>\n",
       "    </tr>\n",
       "    <tr>\n",
       "      <th>2</th>\n",
       "      <td>0</td>\n",
       "      <td>1</td>\n",
       "      <td>1</td>\n",
       "      <td>0</td>\n",
       "      <td>0</td>\n",
       "      <td>1</td>\n",
       "      <td>1</td>\n",
       "    </tr>\n",
       "    <tr>\n",
       "      <th>3</th>\n",
       "      <td>0</td>\n",
       "      <td>1</td>\n",
       "      <td>0</td>\n",
       "      <td>1</td>\n",
       "      <td>1</td>\n",
       "      <td>0</td>\n",
       "      <td>1</td>\n",
       "    </tr>\n",
       "    <tr>\n",
       "      <th>4</th>\n",
       "      <td>1</td>\n",
       "      <td>1</td>\n",
       "      <td>0</td>\n",
       "      <td>1</td>\n",
       "      <td>0</td>\n",
       "      <td>1</td>\n",
       "      <td>0</td>\n",
       "    </tr>\n",
       "  </tbody>\n",
       "</table>\n",
       "</div>"
      ],
      "text/plain": [
       "   CPU_LOAD  MEMORY_LEAK_LOAD  DELAY  ERROR_1000  ERROR_1001  ERROR_1002  \\\n",
       "0         0                 0      0           0           1           0   \n",
       "1         0                 0      0           0           0           0   \n",
       "2         0                 1      1           0           0           1   \n",
       "3         0                 1      0           1           1           0   \n",
       "4         1                 1      0           1           0           1   \n",
       "\n",
       "   ERROR_1003  \n",
       "0           1  \n",
       "1           1  \n",
       "2           1  \n",
       "3           1  \n",
       "4           0  "
      ]
     },
     "execution_count": 159,
     "metadata": {},
     "output_type": "execute_result"
    }
   ],
   "source": [
    "x = cause_data[predictors]\n",
    "x.head()"
   ]
  },
  {
   "cell_type": "code",
   "execution_count": 160,
   "metadata": {},
   "outputs": [],
   "source": [
    "x_train, x_test, y_train, y_test = train_test_split(x,y,\n",
    "                                                     test_size=0.10)"
   ]
  },
  {
   "cell_type": "code",
   "execution_count": 161,
   "metadata": {},
   "outputs": [
    {
     "data": {
      "text/plain": [
       "(900, 7)"
      ]
     },
     "execution_count": 161,
     "metadata": {},
     "output_type": "execute_result"
    }
   ],
   "source": [
    "x_train.shape"
   ]
  },
  {
   "cell_type": "code",
   "execution_count": 162,
   "metadata": {},
   "outputs": [
    {
     "data": {
      "text/plain": [
       "(900, 3)"
      ]
     },
     "execution_count": 162,
     "metadata": {},
     "output_type": "execute_result"
    }
   ],
   "source": [
    "y_train.shape"
   ]
  },
  {
   "cell_type": "code",
   "execution_count": 163,
   "metadata": {},
   "outputs": [
    {
     "data": {
      "text/plain": [
       "(100, 7)"
      ]
     },
     "execution_count": 163,
     "metadata": {},
     "output_type": "execute_result"
    }
   ],
   "source": [
    "x_test.shape"
   ]
  },
  {
   "cell_type": "code",
   "execution_count": 164,
   "metadata": {},
   "outputs": [
    {
     "data": {
      "text/plain": [
       "(100, 3)"
      ]
     },
     "execution_count": 164,
     "metadata": {},
     "output_type": "execute_result"
    }
   ],
   "source": [
    "y_test.shape"
   ]
  },
  {
   "cell_type": "code",
   "execution_count": 165,
   "metadata": {},
   "outputs": [],
   "source": [
    "from tensorflow import keras\n",
    "\n",
    "NB_CLASSES = 3"
   ]
  },
  {
   "cell_type": "code",
   "execution_count": 184,
   "metadata": {},
   "outputs": [],
   "source": [
    "model = tf.keras.models.Sequential() #Create model\n",
    "model.add(keras.layers.Dense(128,\n",
    "                             input_shape = (7,),\n",
    "                             name='Hidden-Layer-1',\n",
    "                             activation='relu')) #First\n",
    "\n",
    "model.add(keras.layers.Dense(128,\n",
    "                             name='Hidden-Layer-2',\n",
    "                             activation='relu')) #Second\n",
    "\n",
    "model.add(keras.layers.Dense(64,\n",
    "                             name='Hidden-Layer-3',\n",
    "                             activation='relu')) #Second\n",
    "\n",
    "model.add(keras.layers.Dense(NB_CLASSES,\n",
    "                             name='Output-Layer',\n",
    "                             activation='softmax')) #Output"
   ]
  },
  {
   "cell_type": "code",
   "execution_count": 185,
   "metadata": {},
   "outputs": [
    {
     "name": "stdout",
     "output_type": "stream",
     "text": [
      "Model: \"sequential_16\"\n",
      "_________________________________________________________________\n",
      " Layer (type)                Output Shape              Param #   \n",
      "=================================================================\n",
      " Hidden-Layer-1 (Dense)      (None, 128)               1024      \n",
      "                                                                 \n",
      " Hidden-Layer-2 (Dense)      (None, 128)               16512     \n",
      "                                                                 \n",
      " Hidden-Layer-3 (Dense)      (None, 64)                8256      \n",
      "                                                                 \n",
      " Output-Layer (Dense)        (None, 3)                 195       \n",
      "                                                                 \n",
      "=================================================================\n",
      "Total params: 25987 (101.51 KB)\n",
      "Trainable params: 25987 (101.51 KB)\n",
      "Non-trainable params: 0 (0.00 Byte)\n",
      "_________________________________________________________________\n"
     ]
    }
   ],
   "source": [
    "model.compile(loss='categorical_crossentropy',\n",
    "              metrics=['accuracy'])\n",
    "\n",
    "model.summary()"
   ]
  },
  {
   "cell_type": "code",
   "execution_count": 211,
   "metadata": {},
   "outputs": [],
   "source": [
    "VERBOSE = 1\n",
    "\n",
    "#Hyperparameters\n",
    "\n",
    "BATCH_SIZE = 64\n",
    "EPOCHS = 20\n",
    "VALIDATIN_SPLIT = 0.2"
   ]
  },
  {
   "cell_type": "code",
   "execution_count": 212,
   "metadata": {},
   "outputs": [
    {
     "name": "stdout",
     "output_type": "stream",
     "text": [
      "Epoch 1/20\n",
      "12/12 [==============================] - 0s 6ms/step - loss: 0.2789 - accuracy: 0.8653 - val_loss: 0.2866 - val_accuracy: 0.8611\n",
      "Epoch 2/20\n",
      "12/12 [==============================] - 0s 5ms/step - loss: 0.2784 - accuracy: 0.8625 - val_loss: 0.2844 - val_accuracy: 0.8444\n",
      "Epoch 3/20\n",
      "12/12 [==============================] - 0s 4ms/step - loss: 0.2762 - accuracy: 0.8583 - val_loss: 0.2931 - val_accuracy: 0.8500\n",
      "Epoch 4/20\n",
      "12/12 [==============================] - 0s 4ms/step - loss: 0.2779 - accuracy: 0.8653 - val_loss: 0.2908 - val_accuracy: 0.8444\n",
      "Epoch 5/20\n",
      "12/12 [==============================] - 0s 3ms/step - loss: 0.2781 - accuracy: 0.8708 - val_loss: 0.2981 - val_accuracy: 0.8389\n",
      "Epoch 6/20\n",
      "12/12 [==============================] - 0s 3ms/step - loss: 0.2748 - accuracy: 0.8667 - val_loss: 0.2862 - val_accuracy: 0.8500\n",
      "Epoch 7/20\n",
      "12/12 [==============================] - 0s 3ms/step - loss: 0.2760 - accuracy: 0.8611 - val_loss: 0.3426 - val_accuracy: 0.8389\n",
      "Epoch 8/20\n",
      "12/12 [==============================] - 0s 3ms/step - loss: 0.2758 - accuracy: 0.8653 - val_loss: 0.3091 - val_accuracy: 0.8444\n",
      "Epoch 9/20\n",
      "12/12 [==============================] - 0s 3ms/step - loss: 0.2762 - accuracy: 0.8597 - val_loss: 0.3082 - val_accuracy: 0.8444\n",
      "Epoch 10/20\n",
      "12/12 [==============================] - 0s 3ms/step - loss: 0.2752 - accuracy: 0.8694 - val_loss: 0.3141 - val_accuracy: 0.8389\n",
      "Epoch 11/20\n",
      "12/12 [==============================] - 0s 3ms/step - loss: 0.2757 - accuracy: 0.8653 - val_loss: 0.2921 - val_accuracy: 0.8500\n",
      "Epoch 12/20\n",
      "12/12 [==============================] - 0s 3ms/step - loss: 0.2722 - accuracy: 0.8681 - val_loss: 0.3265 - val_accuracy: 0.8389\n",
      "Epoch 13/20\n",
      "12/12 [==============================] - 0s 3ms/step - loss: 0.2757 - accuracy: 0.8639 - val_loss: 0.3018 - val_accuracy: 0.8444\n",
      "Epoch 14/20\n",
      "12/12 [==============================] - 0s 3ms/step - loss: 0.2741 - accuracy: 0.8667 - val_loss: 0.3041 - val_accuracy: 0.8278\n",
      "Epoch 15/20\n",
      "12/12 [==============================] - 0s 3ms/step - loss: 0.2757 - accuracy: 0.8583 - val_loss: 0.3066 - val_accuracy: 0.8389\n",
      "Epoch 16/20\n",
      "12/12 [==============================] - 0s 3ms/step - loss: 0.2747 - accuracy: 0.8667 - val_loss: 0.3124 - val_accuracy: 0.8389\n",
      "Epoch 17/20\n",
      "12/12 [==============================] - 0s 3ms/step - loss: 0.2742 - accuracy: 0.8625 - val_loss: 0.3153 - val_accuracy: 0.8389\n",
      "Epoch 18/20\n",
      "12/12 [==============================] - 0s 3ms/step - loss: 0.2759 - accuracy: 0.8681 - val_loss: 0.3060 - val_accuracy: 0.8333\n",
      "Epoch 19/20\n",
      "12/12 [==============================] - 0s 3ms/step - loss: 0.2755 - accuracy: 0.8597 - val_loss: 0.3079 - val_accuracy: 0.8222\n",
      "Epoch 20/20\n",
      "12/12 [==============================] - 0s 3ms/step - loss: 0.2724 - accuracy: 0.8722 - val_loss: 0.3821 - val_accuracy: 0.8222\n"
     ]
    }
   ],
   "source": [
    "#Fit model\n",
    "history = model.fit(x_train,\n",
    "                    y_train,\n",
    "                    batch_size = BATCH_SIZE,\n",
    "                    epochs = EPOCHS,\n",
    "                    verbose = VERBOSE,\n",
    "                    validation_split = VALIDATIN_SPLIT)"
   ]
  },
  {
   "cell_type": "code",
   "execution_count": 213,
   "metadata": {},
   "outputs": [
    {
     "data": {
      "image/png": "[encoded data removed]",
      "text/plain": [
       "<Figure size 800x500 with 1 Axes>"
      ]
     },
     "metadata": {},
     "output_type": "display_data"
    }
   ],
   "source": [
    "import matplotlib.pyplot as plt\n",
    "\n",
    "pd.DataFrame(history.history)[\"accuracy\"].plot(figsize=(8,5))\n",
    "plt.title(\"Accuracy improvements with Epochs\")\n",
    "plt.show()"
   ]
  },
  {
   "cell_type": "code",
   "execution_count": 214,
   "metadata": {},
   "outputs": [
    {
     "name": "stdout",
     "output_type": "stream",
     "text": [
      "4/4 [==============================] - 0s 1ms/step - loss: 0.3401 - accuracy: 0.8300\n"
     ]
    },
    {
     "data": {
      "text/plain": [
       "[0.34013691544532776, 0.8299999833106995]"
      ]
     },
     "execution_count": 214,
     "metadata": {},
     "output_type": "execute_result"
    }
   ],
   "source": [
    "model.evaluate(x_test, y_test)"
   ]
  },
  {
   "cell_type": "code",
   "execution_count": 216,
   "metadata": {},
   "outputs": [
    {
     "name": "stdout",
     "output_type": "stream",
     "text": [
      "1/1 [==============================] - 0s 30ms/step\n",
      "['DATABASE_ISSUE']\n"
     ]
    }
   ],
   "source": [
    "import numpy as np\n",
    "\n",
    "CPU_LOAD=1\n",
    "MEMORY_LOAD=0\n",
    "DELAY=0\n",
    "ERROR_1000=0\n",
    "ERROR_1001=1\n",
    "ERROR_1002=1\n",
    "ERROR_1003=0\n",
    "\n",
    "prediction=np.argmax(model.predict(\n",
    "    [[CPU_LOAD,MEMORY_LOAD,DELAY,\n",
    "      ERROR_1000,ERROR_1001,ERROR_1002,ERROR_1003]]), axis=1 )\n",
    "\n",
    "print(label_encoder.inverse_transform(prediction))"
   ]
  },
  {
   "cell_type": "code",
   "execution_count": 231,
   "metadata": {},
   "outputs": [
    {
     "name": "stdout",
     "output_type": "stream",
     "text": [
      "1/1 [==============================] - 0s 34ms/step\n",
      "['DATABASE_ISSUE']\n",
      "1/1 [==============================] - 0s 35ms/step\n",
      "['NETWORK_DELAY']\n",
      "1/1 [==============================] - 0s 34ms/step\n",
      "['DATABASE_ISSUE']\n",
      "1/1 [==============================] - 0s 32ms/step\n",
      "['DATABASE_ISSUE']\n",
      "1/1 [==============================] - 0s 32ms/step\n",
      "['DATABASE_ISSUE']\n",
      "1/1 [==============================] - 0s 29ms/step\n",
      "['DATABASE_ISSUE']\n",
      "1/1 [==============================] - 0s 30ms/step\n",
      "['MEMORY_LEAK']\n",
      "1/1 [==============================] - 0s 33ms/step\n",
      "['NETWORK_DELAY']\n",
      "1/1 [==============================] - 0s 30ms/step\n",
      "['MEMORY_LEAK']\n",
      "1/1 [==============================] - 0s 33ms/step\n",
      "['MEMORY_LEAK']\n"
     ]
    }
   ],
   "source": [
    "import random\n",
    "\n",
    "N = 10\n",
    "#[CPU_LOAD,MEMORY_LOAD,DELAY,ERROR_1000,ERROR_1001,ERROR_1002,ERROR_1003]\n",
    "for i in range(N):\n",
    "    prediction=np.argmax(model.predict(\n",
    "    [[random.randint(0,1),random.randint(0,1),random.randint(0,1),\n",
    "      random.randint(0,1),random.randint(0,1),random.randint(0,1),\n",
    "      random.randint(0,1)]]), axis=1 )\n",
    "    \n",
    "    print(label_encoder.inverse_transform(prediction))"
   ]
  }
 ],
 "metadata": {
  "kernelspec": {
   "display_name": "Python 3",
   "language": "python",
   "name": "python3"
  },
  "language_info": {
   "codemirror_mode": {
    "name": "ipython",
    "version": 3
   },
   "file_extension": ".py",
   "mimetype": "text/x-python",
   "name": "python",
   "nbconvert_exporter": "python",
   "pygments_lexer": "ipython3",
   "version": "3.10.8"
  },
  "orig_nbformat": 4
 },
 "nbformat": 4,
 "nbformat_minor": 2
}
